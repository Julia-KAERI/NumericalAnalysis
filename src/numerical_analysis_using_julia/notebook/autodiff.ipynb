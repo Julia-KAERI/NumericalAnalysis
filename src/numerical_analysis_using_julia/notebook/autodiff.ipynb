{
 "cells": [
  {
   "cell_type": "code",
   "execution_count": 15,
   "metadata": {},
   "outputs": [],
   "source": [
    "struct Value{T} \n",
    "    v::T\n",
    "    ϵ::Union{T, Nothing}\n",
    "\n",
    "    function Value(v::Real, ϵ=Union{Nothing, Real})\n",
    "        if isa(ϵ, Nothing) \n",
    "            return new{typeof(v)}(v , nothing)\n",
    "        else \n",
    "            @assert ϵ ≥ 0\n",
    "            T0 = promote_type(typeof(v), typeof(ϵ))\n",
    "            return new{T0}(T0(v), T0(ϵ))\n",
    "        end\n",
    "    end\n",
    "end\n",
    "\n",
    "Base.:+(a::Value, b::Real) = Value(a.v+b, a.ϵ)\n",
    "Base.:+(a::Value, b::Value) = Value(a.v+b.v, a.ϵ + b.ϵ)\n",
    "Base.:+(a::Real, b::Value) = b+a\n",
    "Base.:-(a::Value) = Value(-a.v, a.ϵ)\n",
    "Base.:-(a::Union{Real,Value}, b::Union{Real, Value}) = a+(-b)\n",
    "Base.:*(a::Value, b::Real) = Value(a.v*b, a.ϵ*abs(b))\n",
    "Base.:*(a::Value, b::Real) = b+a\n",
    "Base.:*(a::Value, b::Value) = Value(a.v*b.v, a.ϵ*abs(b.v) + abs(a.v)*b.ϵ)\n",
    "Base.:/(a::Value, b::Real) = Value (a.v/b, a.ϵ/abs(b))\n",
    "Base.:/(a::Real, b::Value) = \n"
   ]
  },
  {
   "cell_type": "code",
   "execution_count": 16,
   "metadata": {},
   "outputs": [
    {
     "data": {
      "text/plain": [
       "Value{Float64}(6.0, 3.5)"
      ]
     },
     "metadata": {},
     "output_type": "display_data"
    }
   ],
   "source": [
    "v1 = Value(3.0, 1)\n",
    "v1 * Value(2, 0.5)\n"
   ]
  },
  {
   "cell_type": "code",
   "execution_count": 3,
   "metadata": {},
   "outputs": [
    {
     "data": {
      "text/plain": [
       "Value{Float64}(3.0, 1.0)"
      ]
     },
     "metadata": {},
     "output_type": "display_data"
    }
   ],
   "source": [
    "v1 = Value(3.0, 1)"
   ]
  },
  {
   "cell_type": "code",
   "execution_count": 13,
   "metadata": {},
   "outputs": [],
   "source": []
  }
 ],
 "metadata": {
  "kernelspec": {
   "display_name": "Julia 1.11.2",
   "language": "julia",
   "name": "julia-1.11"
  },
  "language_info": {
   "file_extension": ".jl",
   "mimetype": "application/julia",
   "name": "julia",
   "version": "1.11.2"
  }
 },
 "nbformat": 4,
 "nbformat_minor": 2
}
