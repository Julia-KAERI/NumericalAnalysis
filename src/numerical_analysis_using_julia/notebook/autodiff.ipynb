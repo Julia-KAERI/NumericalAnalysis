{
 "cells": [
  {
   "cell_type": "code",
   "execution_count": 1,
   "metadata": {},
   "outputs": [
    {
     "name": "stderr",
     "output_type": "stream",
     "text": [
      "\u001b[32m\u001b[1m  Activating\u001b[22m\u001b[39m project at `~/.juliaenv/juliaNumerical`\n"
     ]
    }
   ],
   "source": [
    "using Pkg\n",
    "Pkg.activate(\"/Users/jiyongso/.juliaenv/juliaNumerical\")\n",
    "using ForwardDiff\n"
   ]
  },
  {
   "cell_type": "code",
   "execution_count": 2,
   "metadata": {},
   "outputs": [
    {
     "data": {
      "text/plain": [
       "2-element Vector{Float64}:\n",
       " 1.0\n",
       " 2.0"
      ]
     },
     "metadata": {},
     "output_type": "display_data"
    }
   ],
   "source": [
    "g(x::Vector) = x[1]+ 2*x[2]\n",
    "ForwardDiff.gradient(g, [1.0, 1.0])"
   ]
  },
  {
   "cell_type": "code",
   "execution_count": 3,
   "metadata": {},
   "outputs": [
    {
     "data": {
      "text/plain": [
       "-3.141592653589793"
      ]
     },
     "metadata": {},
     "output_type": "display_data"
    }
   ],
   "source": [
    "f(x::Real) = x*sin(x)\n",
    "ForwardDiff.derivative(f, π)"
   ]
  },
  {
   "cell_type": "code",
   "execution_count": 4,
   "metadata": {},
   "outputs": [],
   "source": []
  },
  {
   "cell_type": "code",
   "execution_count": 5,
   "metadata": {},
   "outputs": [
    {
     "data": {
      "text/plain": [
       "2×2 Matrix{Float64}:\n",
       " 2.0  1.0\n",
       " 1.0  1.0"
      ]
     },
     "metadata": {},
     "output_type": "display_data"
    }
   ],
   "source": [
    "H(x::Vector) = [x[1]*x[2], x[1]+x[2]]\n",
    "ForwardDiff.jacobian(H, [1.0, 2.0])"
   ]
  },
  {
   "cell_type": "code",
   "execution_count": 6,
   "metadata": {},
   "outputs": [],
   "source": [
    "struct DNumber{T} \n",
    "    v::T\n",
    "    e::T\n",
    "\n",
    "    function DNumber(v::Real, e::Union{Real, Nothing}=nothing)\n",
    "        if e == nothing\n",
    "            e=one(v)\n",
    "            new{T}(v, e)\n",
    "        else\n",
    "            T = promote_type(typeof(v), typeof(e))\n",
    "            new{T}(v, e)\n",
    "        end\n",
    "    end\n",
    "\n",
    "    \n",
    "end"
   ]
  },
  {
   "cell_type": "code",
   "execution_count": 7,
   "metadata": {},
   "outputs": [
    {
     "data": {
      "text/plain": [
       "log (generic function with 42 methods)"
      ]
     },
     "metadata": {},
     "output_type": "display_data"
    }
   ],
   "source": [
    "Base.:+(x::DNumber, y::DNumber) = DNumber(x.v + y.v, x.e + y.e)\n",
    "Base.:-(x::DNumber, y::DNumber) = DNumber(x.v - y.v, x.e - y.e)\n",
    "Base.:*(x::DNumber, y::DNumber) = DNumber(x.v * y.v, x.e * y.v + x.v * y.e)\n",
    "Base.:/(x::DNumber, y::DNumber) = DNumber(x.v / y.v, (x.e * y.v - x.v * y.e) / y.v^2)\n",
    "Base.:-(x::DNumber) = DNumber(-x.v, -x.e)\n",
    "Base.:+(x::DNumber, y::Real) = DNumber(x.v + y, x.e)\n",
    "Base.:+(x::Real, y::Real) = y+x\n",
    "Base.:-(x::DNumber, y::Real) = DNumber(x.v-y, x.e)\n",
    "Base.:-(x::Real, y::DNumber) = -(y-x)\n",
    "Base.:*(x::DNumber, y::Number) = x*DNumber(y, zero(y))\n",
    "Base.:*(x::Number, y::DNumber) = DNumber(x, zero(x))*y\n",
    "Base.:/(x::DNumber, y::Number) = x/DNumber(y, zero(y))\n",
    "Base.:/(x::Number, y::DNumber) = DNumber(x, zero(x))/y\n",
    "Base.:^(x::DNumber, y::Real) = DNumber((x.v)^y, y*((x.v)^(y-1))*x.e)\n",
    "\n",
    "import Base.sin, Base.cos, Base.tan, Base.exp, Base.log\n",
    "sin(x::DNumber) = DNumber(sin(x.v), cos(x.v)*x.e)\n",
    "cos(x::DNumber) = DNumber(cos(x.v), -sin(x.v)*x.e)  \n",
    "tan(x::DNumber) = sin(x)/cos(x)\n",
    "exp(x::DNumber) = DNumber(exp(x.v), exp(x.v)*x.e)\n",
    "log(x::DNumber) = DNumber(log(x.v), x.e/x.v)\n",
    "\n"
   ]
  },
  {
   "cell_type": "code",
   "execution_count": null,
   "metadata": {},
   "outputs": [
    {
     "data": {
      "text/plain": [
       "autodiff (generic function with 1 method)"
      ]
     },
     "metadata": {},
     "output_type": "display_data"
    }
   ],
   "source": [
    "auto_diff(f::Function, v::Real) = f(DNumber(v, one(v))).e"
   ]
  },
  {
   "cell_type": "code",
   "execution_count": 11,
   "metadata": {},
   "outputs": [
    {
     "data": {
      "text/plain": [
       "DNumber{Float64}(32.0, 80.0)"
      ]
     },
     "metadata": {},
     "output_type": "display_data"
    }
   ],
   "source": [
    "DNumber(2.0, 1.0)^5"
   ]
  },
  {
   "cell_type": "code",
   "execution_count": 12,
   "metadata": {},
   "outputs": [
    {
     "data": {
      "text/plain": [
       "1.125"
      ]
     },
     "metadata": {},
     "output_type": "display_data"
    }
   ],
   "source": [
    "autodiff(x->(sin(x))^3, π/3)"
   ]
  },
  {
   "cell_type": "code",
   "execution_count": 14,
   "metadata": {},
   "outputs": [
    {
     "data": {
      "text/plain": [
       "1.1250000000000002"
      ]
     },
     "metadata": {},
     "output_type": "display_data"
    }
   ],
   "source": [
    "3*cos(π/3)*(sin(π/3))^2"
   ]
  },
  {
   "cell_type": "code",
   "execution_count": null,
   "metadata": {},
   "outputs": [],
   "source": []
  }
 ],
 "metadata": {
  "kernelspec": {
   "display_name": "Julia 1.11.2",
   "language": "julia",
   "name": "julia-1.11"
  },
  "language_info": {
   "file_extension": ".jl",
   "mimetype": "application/julia",
   "name": "julia",
   "version": "1.11.2"
  }
 },
 "nbformat": 4,
 "nbformat_minor": 2
}
