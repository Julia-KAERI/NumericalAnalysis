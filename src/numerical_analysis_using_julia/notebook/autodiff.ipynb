{
 "cells": [
  {
   "cell_type": "code",
   "execution_count": 1,
   "metadata": {},
   "outputs": [
    {
     "name": "stderr",
     "output_type": "stream",
     "text": [
      "\u001b[32m\u001b[1m  Activating\u001b[22m\u001b[39m project at `~/.juliaenv/numerical`\n"
     ]
    }
   ],
   "source": [
    "using Pkg\n",
    "Pkg.activate(\"/Users/jiyong/.juliaenv/numerical\")\n",
    "import ReverseDiff, ForwardDiff\n"
   ]
  },
  {
   "cell_type": "code",
   "execution_count": 2,
   "metadata": {},
   "outputs": [
    {
     "data": {
      "text/plain": [
       "4-element Vector{Float64}:\n",
       "  0.7071067811865476\n",
       " 12.0\n",
       "  8.0\n",
       "  6.0"
      ]
     },
     "metadata": {},
     "output_type": "display_data"
    }
   ],
   "source": [
    "f(x::Vector) = sin(x[1]) + prod(x[2:end]);\n",
    "x = vcat(pi/4, 2:4)\n",
    "ForwardDiff.gradient(f, x)"
   ]
  },
  {
   "cell_type": "code",
   "execution_count": 3,
   "metadata": {},
   "outputs": [
    {
     "ename": "MethodError",
     "evalue": "MethodError: no method matching f(::ReverseDiff.TrackedArray{Float64, Float64, 1, Vector{Float64}, Vector{Float64}})\n\nClosest candidates are:\n  f(!Matched::Vector)\n   @ Main ~/Documents/Projects/JuliaNumerical/src/numerical_analysis_using_julia/notebook/jl_notebook_cell_df34fa98e69747e1a8f8a730347b8e2f_W1sZmlsZQ==.jl:1\n",
     "output_type": "error",
     "traceback": [
      "MethodError: no method matching f(::ReverseDiff.TrackedArray{Float64, Float64, 1, Vector{Float64}, Vector{Float64}})\n",
      "\n",
      "Closest candidates are:\n",
      "  f(!Matched::Vector)\n",
      "   @ Main ~/Documents/Projects/JuliaNumerical/src/numerical_analysis_using_julia/notebook/jl_notebook_cell_df34fa98e69747e1a8f8a730347b8e2f_W1sZmlsZQ==.jl:1\n",
      "\n",
      "\n",
      "Stacktrace:\n",
      " [1] ReverseDiff.GradientTape(f::typeof(f), input::Vector{Float64}, cfg::ReverseDiff.GradientConfig{ReverseDiff.TrackedArray{Float64, Float64, 1, Vector{Float64}, Vector{Float64}}})\n",
      "   @ ReverseDiff ~/.julia/packages/ReverseDiff/p1MzG/src/api/tape.jl:199\n",
      " [2] gradient(f::Function, input::Vector{Float64}, cfg::ReverseDiff.GradientConfig{ReverseDiff.TrackedArray{Float64, Float64, 1, Vector{Float64}, Vector{Float64}}})\n",
      "   @ ReverseDiff ~/.julia/packages/ReverseDiff/p1MzG/src/api/gradients.jl:22\n",
      " [3] top-level scope\n",
      "   @ ~/Documents/Projects/JuliaNumerical/src/numerical_analysis_using_julia/notebook/jl_notebook_cell_df34fa98e69747e1a8f8a730347b8e2f_W2sZmlsZQ==.jl:1"
     ]
    }
   ],
   "source": [
    "ReverseDiff.gradient(f,x)"
   ]
  },
  {
   "cell_type": "code",
   "execution_count": 8,
   "metadata": {},
   "outputs": [
    {
     "data": {
      "text/plain": [
       "f (generic function with 1 method)"
      ]
     },
     "metadata": {},
     "output_type": "display_data"
    }
   ],
   "source": [
    "f"
   ]
  },
  {
   "cell_type": "code",
   "execution_count": null,
   "metadata": {},
   "outputs": [],
   "source": []
  }
 ],
 "metadata": {
  "kernelspec": {
   "display_name": "Julia 1.10.2",
   "language": "julia",
   "name": "julia-1.10"
  },
  "language_info": {
   "file_extension": ".jl",
   "mimetype": "application/julia",
   "name": "julia",
   "version": "1.10.2"
  }
 },
 "nbformat": 4,
 "nbformat_minor": 2
}
