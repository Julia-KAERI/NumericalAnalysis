{
 "cells": [
  {
   "cell_type": "code",
   "execution_count": null,
   "metadata": {},
   "outputs": [],
   "source": [
    "using LinearAlgebra, Plots, BenchmarkTools, LaTeXStrings\n",
    "include(\"onevariable_basic.jl\")"
   ]
  },
  {
   "cell_type": "code",
   "execution_count": null,
   "metadata": {},
   "outputs": [],
   "source": [
    "ff(x, y) = exp(x)"
   ]
  },
  {
   "cell_type": "code",
   "execution_count": null,
   "metadata": {},
   "outputs": [],
   "source": [
    "xp, yp1 = ode_euler(ff, 1.0, 1.2, 1000, 1.0e-2);\n",
    "xp, yp2 = ode_runge_kutta2(ff, 1.0, 1.2, 1000, 1.0e-2);\n",
    "xp, yp3 = ode_runge_kutta4(ff, 1.0, 1.2, 1000, 1.0e-2);"
   ]
  },
  {
   "cell_type": "code",
   "execution_count": null,
   "metadata": {},
   "outputs": [],
   "source": [
    "plot(xp, yp1)\n",
    "plot!(xp, yp2)\n",
    "plot!(xp, yp3)"
   ]
  },
  {
   "cell_type": "code",
   "execution_count": null,
   "metadata": {},
   "outputs": [],
   "source": [
    "f1(x, y) = cos(0.1*x)*x\n",
    "x0 = 0.0\n",
    "y0 = 0.0\n",
    "xp, yp1 = ode_euler(f1, x0, y0, 10000, 1.0e-1);\n",
    "xp, yp2 = ode_runge_kutta2(f1, x0, y0, 10000, 1.0e-1);\n",
    "xp, yp3 = ode_runge_kutta4(f1, x0, y0, 10000, 1.0e-1);\n",
    "plot(xp, yp1)\n",
    "plot!(xp, yp2)\n",
    "plot!(xp, yp3)"
   ]
  },
  {
   "cell_type": "code",
   "execution_count": null,
   "metadata": {},
   "outputs": [],
   "source": [
    "## \\dfrac{d\\psi}{dt}\n",
    "g(t, y) = - sin(t)\n",
    "## \\dfrac{d\\theta}{dt}\n",
    "q(t, y) = 1\n",
    "\n"
   ]
  },
  {
   "cell_type": "code",
   "execution_count": null,
   "metadata": {},
   "outputs": [],
   "source": [
    "a=1.0\n",
    "f(x, y) = -a*y\n",
    "xp, y_newton = ode_euler((x, y)->-a*y, 0.0, 1.0, 10000, 1.0e-3)\n",
    "plot(xp, exp.(-a.*xp), label=L\"e^{-ax}\")\n",
    "plot!(xp, y_newton, label=\"Euler method\")\n",
    "#savefig(\"decay.png\")"
   ]
  },
  {
   "cell_type": "code",
   "execution_count": null,
   "metadata": {},
   "outputs": [],
   "source": []
  },
  {
   "cell_type": "code",
   "execution_count": null,
   "metadata": {},
   "outputs": [],
   "source": []
  },
  {
   "cell_type": "code",
   "execution_count": null,
   "metadata": {},
   "outputs": [],
   "source": []
  }
 ],
 "metadata": {
  "kernelspec": {
   "display_name": "Julia 1.7.3",
   "language": "julia",
   "name": "julia-1.7"
  },
  "language_info": {
   "file_extension": ".jl",
   "mimetype": "application/julia",
   "name": "julia",
   "version": "1.7.3"
  },
  "orig_nbformat": 4,
  "vscode": {
   "interpreter": {
    "hash": "a68ea82ef6af5946d685239626b63ccf643b6c6838f1f71fd5784b61f762bc73"
   }
  }
 },
 "nbformat": 4,
 "nbformat_minor": 2
}
