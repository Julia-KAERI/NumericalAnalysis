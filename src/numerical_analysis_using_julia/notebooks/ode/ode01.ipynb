{
 "cells": [
  {
   "cell_type": "code",
   "execution_count": null,
   "metadata": {},
   "outputs": [],
   "source": [
    "using Plots, BenchmarkTools, LinearAlgebra, LaTeXStrings, SparseArrays"
   ]
  },
  {
   "cell_type": "code",
   "execution_count": null,
   "metadata": {},
   "outputs": [],
   "source": [
    "function ode_euler(\n",
    "    fp::Function, \n",
    "    t1::Real, \n",
    "    x1::Vector{<:Real}, \n",
    "    Npoints::Integer, \n",
    "    h = 1.0e-6)\n",
    "    \n",
    "    tn = t1 .+ collect(0:1:(Npoints-1)) * h\n",
    "    xn = zeros((length(x1), length(tn)))\n",
    "    xn[:,1] = x1\n",
    "    for i in 1:(Npoints-1)\n",
    "        xn[:, i+1] = xn[:, i] .+ fp(tn[i], xn[:, i]).*h\n",
    "    end\n",
    "    return tn, xn\n",
    "end\n",
    "\n",
    "function ode_euler(\n",
    "    fp::Function,\n",
    "    t1::Real, \n",
    "    x1::Real,\n",
    "    Npoints::Integer, \n",
    "    h = 1.0e-6)\n",
    "\n",
    "    tn, xn =  ode_euler(fp, t1, [x1], Npoints, h)\n",
    "    return tn, xn[1,:]\n",
    "end\n"
   ]
  },
  {
   "cell_type": "code",
   "execution_count": null,
   "metadata": {},
   "outputs": [],
   "source": [
    "tn, xn = ode_euler((t, x)->exp(t), 0.0, 1.0, 500, 1.0e-2)\n",
    "plot(tn, xn, lw = 2, frame = :box, label = \"Euler method\")#, dpi=300)\n",
    "plot!(tn, exp.(tn), lw=2, ls = :dash, label = L\"f(t) = e^t\")"
   ]
  },
  {
   "cell_type": "code",
   "execution_count": null,
   "metadata": {},
   "outputs": [],
   "source": []
  },
  {
   "cell_type": "code",
   "execution_count": null,
   "metadata": {},
   "outputs": [],
   "source": [
    "function butterfly3d(v, σ::Real, ρ::Real, β::Real)\n",
    "    return [σ*(v[2]-v[1]), v[1]*(ρ - v[3])-v[2], v[1]*v[2]-β*v[3]]\n",
    "end\n",
    "tn, xn = ode_euler((t, v)->butterfly3d(v, 10, 28, 8/3), 0.0, [0.0, 1.0, 1.0], 4000, 1.0e-2)"
   ]
  },
  {
   "cell_type": "code",
   "execution_count": null,
   "metadata": {},
   "outputs": [],
   "source": [
    "tn, xn = ode_euler((t, v)->butterfly3d(v, 10, 28, 8/3), 0.0, [0.0, 1.0, 1.0], 4000, 1.0e-2)\n"
   ]
  },
  {
   "cell_type": "code",
   "execution_count": null,
   "metadata": {},
   "outputs": [],
   "source": [
    "p0 = plot(xn[1,:], xn[2,:], xn[3,:], frame=:box, aspect_ratio=1.0, label=L\"xyz\", dpi=300)\n",
    "p1 = plot(xn[1,:], xn[2,:], frame=:box, aspect_ratio=1.0, label=L\"xy\", color=:red)\n",
    "p2 = plot(xn[2,:], xn[3,:], frame=:box, aspect_ratio=1.0, label=L\"yz\", color=:green)\n",
    "p3 = plot(xn[3,:], xn[1,:], frame=:box, aspect_ratio=1.0, label=L\"zx\", color=:blue)\n",
    "\n",
    "plot!(p0, p1, p2, p3, layout=4)\n",
    "#savefig(\"lorentz.png\")"
   ]
  },
  {
   "cell_type": "code",
   "execution_count": null,
   "metadata": {},
   "outputs": [],
   "source": [
    "p1 = plot(xn[1,:], xn[2,:], xn[3,:], frame=:box, aspect_ratio=1.0, label=L\"xy\")"
   ]
  },
  {
   "cell_type": "code",
   "execution_count": null,
   "metadata": {},
   "outputs": [],
   "source": [
    "function sho1d(y::Vector{<:Real}, k::Real, x0=0.0)\n",
    "    return [y[2], -k*(y[1]-x0)]\n",
    "end\n",
    "\n",
    "function sho2d(y::Vector{<:Real}, k::Real, r0=3.0)\n",
    "    r = norm(y[1:2])\n",
    "    θ = atan(y[2], y[1])\n",
    "    return [y[3], y[4], -k*(r-r0)*cos(θ), -k*(r-r0)*sin(θ)]\n",
    "end\n",
    "\n"
   ]
  },
  {
   "cell_type": "code",
   "execution_count": null,
   "metadata": {},
   "outputs": [],
   "source": [
    "tn, xn = ode_euler((t, y)->sho1d(y, 3, 1.0), 2.0, [1.1, 0.0], 10000, 1.0e-2)\n",
    "plot(tn, xn[1,: ], label = :none, xlabel = L\"t\", frame = :box, dpi=300)\n",
    "# savefig(\"euler_sho1d.png\")"
   ]
  },
  {
   "cell_type": "code",
   "execution_count": null,
   "metadata": {},
   "outputs": [],
   "source": [
    "tn, xn = ode_euler((t, y)->sho2d(y, 0.3, 1), 0.0, [1, √2, 1.0, 0.0], 100000, 1.0e-2)"
   ]
  },
  {
   "cell_type": "code",
   "execution_count": null,
   "metadata": {},
   "outputs": [],
   "source": [
    "plot(xn[1,:], xn[2,: ], label = :none, aspect_ratio = :equal)"
   ]
  },
  {
   "cell_type": "code",
   "execution_count": null,
   "metadata": {},
   "outputs": [],
   "source": [
    "function twobody(m1::Real, m2::Real, G::Real, x::Vector{<:Real}, y::Vector{<:Real}, v::Vector{<:Real}, w::Vector{<:Real})\n",
    "    r = x .- y\n",
    "    rn = (sum(r .* r))^(3/2)\n",
    "    a1 = -G*m2*r/rn\n",
    "    a2 = G*m1*r/rn\n",
    "    xx = [x ; y ; v ; w]\n",
    "    A = zeros(12, 12)\n",
    "    A[1:3, 7:9] = [v[1] 0 0; 0 v[2] 0; 0 v[3] 0]\n",
    "    A[4:6, 10:12] = [w[1] 0 0; 0 w[2] 0; 0 w[3] 0]\n",
    "    A[7:9, 1:3] = [a1[1] 0 0; 0 a1[2] 0; 0 a1[3] 0]\n",
    "    A[10:12, 4:6] = [a2[1] 0 0; 0 a2[2] 0; 0 a2[3] 0]\n",
    "    return \n",
    "\n",
    "end\n"
   ]
  },
  {
   "cell_type": "code",
   "execution_count": null,
   "metadata": {},
   "outputs": [],
   "source": [
    "s = twobody(1, 1, 1, [1, 2, 3], [4, 5, 6], [7, 8, 9], [10,  11 ,12])"
   ]
  },
  {
   "cell_type": "code",
   "execution_count": null,
   "metadata": {},
   "outputs": [],
   "source": [
    "sqrt(3.1^2+π^2)"
   ]
  },
  {
   "cell_type": "code",
   "execution_count": null,
   "metadata": {},
   "outputs": [],
   "source": []
  },
  {
   "cell_type": "code",
   "execution_count": null,
   "metadata": {},
   "outputs": [],
   "source": []
  },
  {
   "cell_type": "code",
   "execution_count": null,
   "metadata": {},
   "outputs": [],
   "source": []
  }
 ],
 "metadata": {
  "kernelspec": {
   "display_name": "Julia 1.10.0",
   "language": "julia",
   "name": "julia-1.10"
  },
  "language_info": {
   "file_extension": ".jl",
   "mimetype": "application/julia",
   "name": "julia",
   "version": "1.10.0"
  }
 },
 "nbformat": 4,
 "nbformat_minor": 2
}
