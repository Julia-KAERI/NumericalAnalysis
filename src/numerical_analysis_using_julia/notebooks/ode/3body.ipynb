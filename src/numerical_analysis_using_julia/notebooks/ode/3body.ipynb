{
 "cells": [
  {
   "cell_type": "code",
   "execution_count": null,
   "metadata": {},
   "outputs": [],
   "source": [
    "using Plots, LinearAlgebra, SparseArrays, BenchmarkTools, LaTeXStrings\n",
    "using NAJ"
   ]
  },
  {
   "cell_type": "code",
   "execution_count": null,
   "metadata": {},
   "outputs": [],
   "source": [
    "function tm(m1::Real, m2::Real, m3::Real, G::Real, r)\n",
    "    local r12 = r[4:6] .- r[1:3]\n",
    "    local r23 = r[7:9] .- r[4:6]\n",
    "    local r31 = r[1:3] .- r[7:9] \n",
    "    \n",
    "    local n12 = norm(r12)^3\n",
    "    local n23 = norm(r23)^3\n",
    "    local n31 = norm(r31)^3\n",
    "    \n",
    "    A = zeros(18, 18)\n",
    "    \n",
    "    for i in 1:9\n",
    "        A[i, 9+i] = 1.0\n",
    "    end\n",
    "\n",
    "    II = [1.0 0 0; 0 1 0; 0 0 1]\n",
    "    F12 = (G*m1*m2/n12) *II\n",
    "    F23 = (G*m2*m3/n23) *II\n",
    "    F31 = (G*m3*m1/n31) *II\n",
    "\n",
    "    if m1 > 0.0\n",
    "        A[10:12, 4:6] = F12/m1\n",
    "        A[10:12, 1:3] += -F12/m1\n",
    "        A[10:12, 7:9] = F31/m1\n",
    "        A[10:12, 1:3] += -F31/m1\n",
    "    end\n",
    "\n",
    "    if m2 > 0.0\n",
    "        A[13:15, 1:3] = F12/m2\n",
    "        A[13:15, 4:6] += -F12/m2\n",
    "        A[13:15, 7:9] = F23/m2\n",
    "        A[13:15, 4:6] += -F23/m2\n",
    "    end\n",
    "    \n",
    "    if m3 > 0.0\n",
    "        A[16:18, 1:3] = F31/m3\n",
    "        A[16:18, 7:9] += -F31/m3\n",
    "        A[16:18, 4:6] = F23/m3\n",
    "        A[16:18, 7:9] += -F23/m3\n",
    "    end\n",
    "\n",
    "    return A\n",
    "end\n",
    "\n",
    "function threebody(m1::Real, m2::Real, m3::Real, G::Real, r)\n",
    "    A = tm(m1, m2, m3, G, r)\n",
    "    return A*r\n",
    "end"
   ]
  },
  {
   "cell_type": "code",
   "execution_count": null,
   "metadata": {},
   "outputs": [],
   "source": [
    "norm([1;1;1]) - sqrt(3.)"
   ]
  },
  {
   "cell_type": "code",
   "execution_count": null,
   "metadata": {},
   "outputs": [],
   "source": [
    "# m0 = 5.972e24\n",
    "# v0 = 29.78e3\n",
    "# r0 =147.10e9\n",
    "\n",
    "# m1 = 1.0*m0\n",
    "# m2 = 0.0 #1.0*m0\n",
    "# m3 = 1.0e5*m0\n",
    "\n",
    "\n",
    "# G =  6.67384e−11\n",
    "# r1 = [1 ; 0; 0.0] .* r0\n",
    "# r2 = [0 ; 4; 0.0] .* r0\n",
    "# r3 = [0; 0; 0.0] .* r0\n",
    "# v1 = [1; 0; 0.0] .* v0\n",
    "# v2 = [1; 1; 0.0] .* v0\n",
    "# v3 = [0; 0; 0.0] .* v0\n",
    "\n",
    "m1 = 3.0\n",
    "m2 = 4.0\n",
    "m3 = 5.0\n",
    "\n",
    "r0 = 1.0\n",
    "v0 = 1.0\n",
    "G = 1\n",
    "r1 = [1; 3; 0] .* r0\n",
    "r2 = [-2; -1; 0] .* r0\n",
    "r3 = [1; -1; 0] .* r0\n",
    "v1 = [0; 0; 0] .* v0\n",
    "v2 = [0; 0; 0].* v0\n",
    "v3 = [0; 0; 0] .* v0\n",
    "\n",
    "\n",
    "\n",
    "s = [r1; r2; r3; v1 ;v2 ; v3]\n",
    "tn, xn = ode_rk4((t, y)->threebody(m1, m2, m3, G, y), 0.0, s, 10000000, 1.0e-5)\n",
    "# tn, xn = ode_euler((t, y)->threebody(m1, m2, m3, G, y), 0.0, s, 87000, 3600)"
   ]
  },
  {
   "cell_type": "code",
   "execution_count": null,
   "metadata": {},
   "outputs": [],
   "source": [
    "# # a=Animation()\n",
    "# anim = @animate for i in 1:100:1000000\n",
    "#     pl = plot(xn[1,1:i], xn[2, 1:i], aspect_ratio = :equal, lw=3)\n",
    "#     plot!(xn[4,1:i], xn[5, 1:i],   lw=3)\n",
    "#     plot!(xn[7,1:i], xn[8, 1:i] ,  lw=3)\n",
    "#     frame(a, pl)\n",
    "\n",
    "# end\n",
    "# gif(anim, \"3body.gif\", fps = 15)"
   ]
  },
  {
   "cell_type": "code",
   "execution_count": null,
   "metadata": {},
   "outputs": [],
   "source": [
    "dd = 1:1000:1000000\n",
    "\n",
    "p1 = plot(xn[1, dd ], xn[2, dd ], aspect_ratio = :equal, lw=3, color = :red, label = \"m1\", frame = :box, title = L\"t \\in [1, 10]\", xlim=(-4, 4), ylim = (-4, 4))\n",
    "plot!(xn[4, dd ], xn[5, dd ],   lw=3, color = :blue, label = \"m2\")\n",
    "plot!(xn[7, dd ], xn[8, dd ] ,  lw=3, color = :green, label = \"m3\")\n",
    "\n",
    "# dd = 1000000:100:1700000\n",
    "# p2 = plot(xn[1, dd ], xn[2, dd ], aspect_ratio = :equal, lw=3, color = :red, label = \"m1\", frame = :box, title = L\"t \\in [10, 20]\")\n",
    "# plot!(xn[4, dd ], xn[5, dd ],   lw=3, color = :blue, label = \"m2\")\n",
    "# plot!(xn[7, dd ], xn[8, dd ] ,  lw=3, color = :green, label = \"m3\")\n",
    "\n",
    "# plot([p1 p2])"
   ]
  },
  {
   "cell_type": "code",
   "execution_count": null,
   "metadata": {},
   "outputs": [],
   "source": [
    "dd = 1000000:100:2000000\n",
    "pl = plot(xn[1, dd ], xn[2, dd ], aspect_ratio = :equal, lw=3, color = :red, label = \"m1\", frame = :box, title = L\"t \\in [10, 20]\")\n",
    "plot!(xn[4, dd ], xn[5, dd ],   lw=3, color = :blue, label = \"m2\")\n",
    "plot!(xn[7, dd ], xn[8, dd ] ,  lw=3, color = :green, label = \"m3\")"
   ]
  },
  {
   "cell_type": "code",
   "execution_count": null,
   "metadata": {},
   "outputs": [],
   "source": [
    " T = (0.5 * m1) .* (xn[10,:].^2 + xn[11,:].^2 +xn[12, :] .^2) .+ (0.5 * m2) .*  (xn[13,:].^2 + xn[14,:].^2 +xn[15, :] .^2)  .+ (0.5 * m3) .*  (xn[16,:].^2 + xn[17,:].^2 +xn[18, :] .^2)\n",
    " r12 = sqrt.((xn[1,:] .- xn[4, :]).^2 + (xn[2,:] .- xn[5,:]).^2 + (xn[3, :] .- xn[6,:]).^2)\n",
    " r23 = sqrt.((xn[7,:] .- xn[4, :]).^2 + (xn[8,:] .- xn[5,:]).^2 + (xn[8, :] .- xn[6,:]).^2)\n",
    " r31 = sqrt.((xn[1,:] .- xn[7, :]).^2 + (xn[2,:] .- xn[8,:]).^2 + (xn[3, :] .- xn[9,:]).^2)\n",
    " V = -1.0 .* ((m1*m2)./ r12 .+ (m2*m3) ./ r23 .+  (m1*m3)./r31)"
   ]
  },
  {
   "cell_type": "code",
   "execution_count": null,
   "metadata": {},
   "outputs": [],
   "source": [
    "plot( T[1:100:end], label = L\"K\", ylim = (-10, 100), xlim = (1, 25000))\n",
    "# plot!( V[1:100:end], label = L\"V\")\n",
    "# plot!( (T+V)[1:100:end], label = L\"K+V\")\n",
    "plot!(r12[1:100:end] .* 10, label = L\"r_{12} \\times 10\")\n",
    "plot!(r23[1:100:end] .* 10, label = L\"r_{23} \\times 10\")\n",
    "plot!(r31[1:100:end] .* 10, label = L\"r_{31} \\times 10\")\n"
   ]
  },
  {
   "cell_type": "code",
   "execution_count": null,
   "metadata": {},
   "outputs": [],
   "source": [
    "plot(T[100:100:end], label = L\"K\", yaxis=:log)\n",
    "plot!(abs.(V[100:100:end]), label = L\"V\")"
   ]
  },
  {
   "cell_type": "code",
   "execution_count": null,
   "metadata": {},
   "outputs": [],
   "source": [
    "norm([1; 2; 3])"
   ]
  },
  {
   "cell_type": "code",
   "execution_count": null,
   "metadata": {},
   "outputs": [],
   "source": []
  }
 ],
 "metadata": {
  "kernelspec": {
   "display_name": "Julia 1.10.0",
   "language": "julia",
   "name": "julia-1.10"
  },
  "language_info": {
   "file_extension": ".jl",
   "mimetype": "application/julia",
   "name": "julia",
   "version": "1.10.0"
  }
 },
 "nbformat": 4,
 "nbformat_minor": 2
}
