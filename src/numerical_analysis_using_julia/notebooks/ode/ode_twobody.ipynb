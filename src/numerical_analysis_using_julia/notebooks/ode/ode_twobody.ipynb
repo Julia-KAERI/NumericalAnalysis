{
 "cells": [
  {
   "cell_type": "code",
   "execution_count": null,
   "metadata": {},
   "outputs": [],
   "source": [
    "using LinearAlgebra, BenchmarkTools, LaTeXStrings, Plots, Plots.PlotMeasures, SparseArrays\n",
    "using NAJ"
   ]
  },
  {
   "cell_type": "code",
   "execution_count": null,
   "metadata": {},
   "outputs": [],
   "source": [
    "function twobody(m1::Real, m2::Real, G::Real, xx::Vector{<:Real})\n",
    "    x, y, v, w = xx[1:3], xx[4:6], xx[7:9], xx[10:12]\n",
    "    r = y .- x\n",
    "    rn = norm(r)^3\n",
    "    k2 = (G*m2/rn) \n",
    "    k1 = (G*m1/rn) \n",
    "    A = zeros(12, 12)\n",
    "    A[1:3, 7:9] = [1 0 0; 0 1 0; 0 0 1]\n",
    "    A[4:6, 10:12] = [1 0 0; 0 1 0; 0 0 1]\n",
    "    A[7:9, 1:3] = [-k2 0 0; 0 -k2 0; 0  0 -k2]\n",
    "    A[7:9, 4:6] = [k2 0 0; 0 k2 0; 0 0 k2]\n",
    "    A[10:12, 4:6] = [-k1 0 0; 0 -k1 0; 0 0 -k1]\n",
    "    A[10:12, 1:3] = [k1 0 0; 0 k1 0; 0 0 k1]\n",
    "\n",
    "    return A*xx\n",
    "end"
   ]
  },
  {
   "cell_type": "code",
   "execution_count": null,
   "metadata": {},
   "outputs": [],
   "source": [
    "me = 5.972e24\n",
    "ms= 2.0e30\n",
    "G =  6.67384e−11\n",
    "v1 = 29.78e3\n",
    "r0 =147.10e9\n",
    "# A=twobody(ms, me, G,[0, 0, 0, r0, 0, 0, 0, -v1*me/ms, 0, -v1, v1, 0])\n",
    "tn3, xn3 = ode_rk4((t, y)->twobody(ms, me, G, y), 0.0, [0, 0, 0, r0, 0, 0, 0, -v1*me/ms, 0, 0, v1, 0], 8760, 3600)"
   ]
  },
  {
   "cell_type": "code",
   "execution_count": null,
   "metadata": {},
   "outputs": [],
   "source": []
  },
  {
   "cell_type": "code",
   "execution_count": null,
   "metadata": {},
   "outputs": [],
   "source": [
    "p1 = plot(xn3[4, : ], xn3[5, :], aspect_ratio = :equal, label=\"Earth\", lc=:green, frame=:box)\n",
    "p2 = plot(xn3[1, : ], xn3[2, :], aspect_ratio = :equal, label = \"Sun\", lc=:red, frame = :box)\n",
    "plot(p1, p2, size = [800, 400])"
   ]
  },
  {
   "cell_type": "code",
   "execution_count": null,
   "metadata": {},
   "outputs": [],
   "source": [
    "com = ((ms .* xn3[1:3, :]) .+ (me .* xn3[4:6, :])) ./ (ms+me)\n",
    "plot(com[1,:], com[2, :])#, aspect_ratio = :equal)"
   ]
  },
  {
   "cell_type": "code",
   "execution_count": null,
   "metadata": {},
   "outputs": [],
   "source": [
    "Diagonal([1,2,3])"
   ]
  },
  {
   "cell_type": "code",
   "execution_count": null,
   "metadata": {},
   "outputs": [],
   "source": [
    "24*365"
   ]
  },
  {
   "cell_type": "code",
   "execution_count": null,
   "metadata": {},
   "outputs": [],
   "source": []
  }
 ],
 "metadata": {
  "kernelspec": {
   "display_name": "Julia 1.10.2",
   "language": "julia",
   "name": "julia-1.10"
  },
  "language_info": {
   "file_extension": ".jl",
   "mimetype": "application/julia",
   "name": "julia",
   "version": "1.10.2"
  }
 },
 "nbformat": 4,
 "nbformat_minor": 2
}
