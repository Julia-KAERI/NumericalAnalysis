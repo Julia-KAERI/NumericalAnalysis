{
 "cells": [
  {
   "cell_type": "code",
   "execution_count": null,
   "metadata": {},
   "outputs": [],
   "source": [
    "using LinearAlgebra, Plots, BenchmarkTools, LaTeXStrings\n",
    "include(\"./onevariable_basic.jl\")"
   ]
  },
  {
   "cell_type": "code",
   "execution_count": null,
   "metadata": {},
   "outputs": [],
   "source": [
    "g = 1\n",
    "L = 2.0\n",
    "Np = 100000\n",
    "epsilon = 1.0e-3\n",
    "θ0, ϕ0 = 0.0, 1.0\n",
    "\n",
    "f_pendulum(t, x) = return [x[2], -g/L*sin(x[1])]\n",
    "t, xp1 = ode_euler(f_pendulum, 0.0, [ θ0 ; ϕ0], Np, epsilon)\n",
    "t, xp2 = ode_runge_kutta2(f_pendulum, 0.0, [θ0 ; ϕ0], Np, epsilon)\n",
    "t, xp3 = ode_runge_kutta4(f_pendulum, 0.0, [θ0 ; ϕ0], Np, epsilon)\n",
    "\n",
    "plot(t, xp1[1, :], label = \"Euler\", frame = :box, loc=:topcenter)\n",
    "plot!(t, xp2[1, :], xlabel = \"t\", label = \"RK2\")\n",
    "plot!(t, xp3[1, :], xlabel = \"t\", label = \"RK4\")\n",
    "\n",
    "#savefig(\"pendulum2.png\")\n"
   ]
  },
  {
   "cell_type": "code",
   "execution_count": null,
   "metadata": {},
   "outputs": [],
   "source": []
  }
 ],
 "metadata": {
  "kernelspec": {
   "display_name": "Julia_12 threads 1.8.2",
   "language": "julia",
   "name": "julia_12-threads-1.8"
  },
  "language_info": {
   "file_extension": ".jl",
   "mimetype": "application/julia",
   "name": "julia",
   "version": "1.8.2"
  },
  "orig_nbformat": 4
 },
 "nbformat": 4,
 "nbformat_minor": 2
}
