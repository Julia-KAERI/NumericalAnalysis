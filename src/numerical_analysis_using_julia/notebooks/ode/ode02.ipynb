{
 "cells": [
  {
   "cell_type": "code",
   "execution_count": null,
   "metadata": {},
   "outputs": [],
   "source": [
    "using LinearAlgebra, BenchmarkTools, LaTeXStrings, Plots, Plots.PlotMeasures, SparseArrays\n",
    "using NAJ"
   ]
  },
  {
   "cell_type": "code",
   "execution_count": null,
   "metadata": {},
   "outputs": [],
   "source": [
    "# function ode_euler(\n",
    "#     f::Function, \n",
    "#     t0::Real, \n",
    "#     x0::Vector{<:Real}, \n",
    "#     Npoints::Integer, \n",
    "#     h = 1.0e-6)\n",
    "#     tn = t0 .+ collect(0:1:(Npoints-1)) * h\n",
    "#     xn = zeros((length(x0), length(tn)))\n",
    "#     xn[:,1] = x0\n",
    "#     for i in 1:(Npoints-1)\n",
    "#         xn[:, i+1] = xn[:, i] .+ f(tn[i], xn[:, i]) .* h\n",
    "#     end\n",
    "#     return tn, xn\n",
    "# end\n",
    "\n",
    "# function ode_rk2(f::Function, \n",
    "#     t1::Real, \n",
    "#     x1::Vector{<:Real}, \n",
    "#     Npoints::Integer, \n",
    "#     h = 1.0e-6) \n",
    "#     tn = t1 .+ collect(0:1:(Npoints-1)) * h\n",
    "#     xn = zeros((length(x1), length(tn)))\n",
    "#     xn[:,1] = x1\n",
    "#     for i in 1:(Npoints-1)\n",
    "#         k1 = f(tn[i], xn[:,i])\n",
    "#         k2 = f(tn[i] + h/2, xn[:, i] .+ k1.*(h/2))\n",
    "#         xn[:, i+1] = xn[:,i] .+ (k1 .+ k2) .*(h/2)\n",
    "#     end \n",
    "#     return tn, xn\n",
    "# end\n",
    "\n",
    "# function ode_rk4(f::Function, \n",
    "#     t1::Real, \n",
    "#     x1::Vector{<:Real}, \n",
    "#     Npoints::Integer, \n",
    "#     h = 1.0e-6) \n",
    "#     tn = t1 .+ collect(0:1:(Npoints-1)) * h\n",
    "#     xn = zeros((length(x1), length(tn)))\n",
    "#     xn[:,1] = x1\n",
    "#     for i in 1:(Npoints-1)\n",
    "#         k1 = f(tn[i], xn[:, i])\n",
    "#         k2 = f(tn[i] + h/2, xn[:, i] .+ k1.*(h/2))\n",
    "#         k3 = f(tn[i] + h/2, xn[:,i] .+ k2 .*(h/2))\n",
    "#         k4 = f(tn[i] + h, xn[:, i] .+ k3 .* h)\n",
    "#         xn[:, i+1] = xn[:, i] .+ (k1 .+ (2.0 .* k2) .+ (2.0 .* k3) .+ k4).*(h/6)\n",
    "#     end\n",
    "#     return tn, xn\n",
    "# end\n"
   ]
  },
  {
   "cell_type": "code",
   "execution_count": null,
   "metadata": {},
   "outputs": [],
   "source": [
    "function butterfly3d(v, σ::Real, ρ::Real, β::Real)\n",
    "    return [σ*(v[2]-v[1]), v[1]*(ρ - v[3])-v[2], v[1]*v[2]-β*v[3]]\n",
    "end"
   ]
  },
  {
   "cell_type": "code",
   "execution_count": null,
   "metadata": {},
   "outputs": [],
   "source": [
    "tn, xn = ode_rk2((t, x)->butterfly3d(x, 10, 28, 8/3), 0.0, [0.0, 1.0, 1.0], 50000, 1.0e-3)\n",
    "plot(xn[1,:], xn[2,:], xn[3,:], label=\"RK2\")\n",
    "# plot(xn[1,:], xn[2,:], xn[3,:], dpi=300, label=\"RK2\")\n",
    "# savefig(\"lorentz_rk2.png\")"
   ]
  },
  {
   "cell_type": "code",
   "execution_count": null,
   "metadata": {},
   "outputs": [],
   "source": [
    "tn, xn = ode_rk4((t, x)->butterfly3d(x, 10, 28, 8/3), 0.0, [0.0, 1.0, 1.0], 50000, 1.0e-3)\n",
    "plot(xn[1,:], xn[2,:], xn[3,:],dpi=300, label = \"RK4\")\n",
    "# plot(xn[1,:], xn[2,:], xn[3,:], label = \"RK4\")\n",
    "# savefig(\"lorentz_rk4.png\")"
   ]
  },
  {
   "cell_type": "code",
   "execution_count": null,
   "metadata": {},
   "outputs": [],
   "source": [
    "function sho1d(y::Vector{<:Real}, k::Real, x0=0.0)\n",
    "    return [y[2], -k*(y[1]-x0)]\n",
    "end\n",
    "tn1, xn1 = ode_rk2((t, y)->sho1d(y, 3, 1.0), 2.0, [1.1, 0.0], 10000, 1.0e-2)\n",
    "tn2, xn2 = ode_rk4((t, y)->sho1d(y, 3, 1.0), 2.0, [1.1, 0.0], 10000, 1.0e-2)\n",
    "p1=plot(tn1, xn1[1,: ], label = :none, xlabel = L\"t\", ylabel = L\"\\textbf{Amplitude}\", title = L\"RK2\", size=(400, 350))\n",
    "\n",
    "p2=plot(tn2, xn2[1,: ], label = :none, xlabel = L\"t\", ylabel = L\"\\textbf{Amplitude}\", title = L\"RK4\", size=(400, 350))\n",
    "plot(p1, p2, size=(1000, 400), left_margin = [10mm 10mm], bottom_margin = 15px)\n",
    "#savefig(\"sho1d_rk.png\")"
   ]
  },
  {
   "cell_type": "code",
   "execution_count": null,
   "metadata": {},
   "outputs": [],
   "source": [
    "function dho1d(y::Vector{<:Real}, m=1.0, k=1.0, γ=1.0)\n",
    "    return [y[2], -γ/m *y[2] - k/m*y[1]]\n",
    "end\n",
    "\n",
    "m, k, γ = 1.0, 1.0, 0.03\n",
    "tn1, xn1 = ode_euler((t, y)->dho1d(y, m, k, γ), 0.0, [0.0, 1.0], 10000, 1.0e-2)\n",
    "tn2, xn2 = ode_rk2((t, y)->dho1d(y, m, k, γ), 0.0, [0.0, 1.0], 10000, 1.0e-2)\n",
    "tn3, xn3 = ode_rk4((t, y)->dho1d(y, m, k, γ), 0.0, [0.0, 1.0], 10000, 1.0e-2)\n",
    "\n",
    "p1=plot(tn1, xn1[1,: ], label = \"Euler\", xlabel = L\"t\", ylabel = L\"\\textbf{Amplitude}\", title = L\"\\textbf{Underdamping}\", lc=:red)#, size=(400, 350))\n",
    "plot!(tn2, xn2[1,: ], label = \"RK2\", lc=:green)\n",
    "\n",
    "plot!(tn3, xn3[1,: ], label = \"RK4\", lc=:blue)#, xlabel = L\"t\", ylabel = L\"\\textbf{Amplitude}\", title = L\"RK4\", size=(400, 350))\n",
    "\n",
    "\n",
    "λ = γ/(2*m)\n",
    "ω = sqrt(k/m-γ^2/4/m)\n",
    "rk2 = exp.(-λ .* tn3) .* sin.(ω .* tn3)\n",
    "plot!(tn3, rk2, lc=:cyan, label = \"analytic\")\n",
    "plot!(tn3, rk2-xn3[1, :], lc=:black, label = \"analytic-rk4\")\n",
    "println(\"λ= $λ, ω = $ω\")\n",
    "\n",
    "m, k, γ = 1, 0.02, 0.6\n",
    "tn1, xn1 = ode_euler((t, y)->dho1d(y, m, k, γ), 0.0, [0.0, 1.0], 10000, 1.0e-2)\n",
    "tn2, xn2 = ode_rk2((t, y)->dho1d(y, m, k, γ), 0.0, [0.0, 1.0], 10000, 1.0e-2)\n",
    "tn3, xn3 = ode_rk4((t, y)->dho1d(y, m, k, γ), 0.0, [0.0, 1.0], 10000, 1.0e-2)\n",
    "p2=plot(tn1, xn1[1,: ], label = \"Euler\", xlabel = L\"t\", ylabel = L\"\\textbf{Amplitude}\", title = L\"\\textbf{Overdamping}\", lc=:red)#, size=(400, 350))\n",
    "plot!(tn2, xn2[1,: ], label = \"RK2\", lc=:green)\n",
    "plot!(tn3, xn3[1,: ], label = \"RK4\", lc=:blue)#\n",
    "\n",
    "\n",
    "λ = γ/(2*m)\n",
    "ω = sqrt(k/m+0.0im-γ^2/4/m)\n",
    "println(\"λ= $λ, ω = $ω\")\n",
    "rk2 = 1.88982*exp.(-λ .* tn3) .* (exp.(imag(ω) .* tn3) - exp.(-imag(ω) .* tn3)) \n",
    "plot!(tn3, rk2, lc=:cyan, label = \"analytic\")\n",
    "plot(p1, p2, dpi=300, left_margin = [10mm 10mm], bottom_margin = 15px, size=(1000, 450))\n",
    "\n",
    "#savefig(\"dho1d_rk.png\")"
   ]
  },
  {
   "cell_type": "code",
   "execution_count": null,
   "metadata": {},
   "outputs": [],
   "source": [
    "function pendulum(y::Vector{<:Real}, g=9.8, l=2)\n",
    "    return [y[2], -g/l*sin(y[1])]\n",
    "end\n",
    "g, l = 9.8, 5.0\n",
    "tn1, xn1 = ode_euler((t, y)->pendulum(y, g, l), 0.0, [0.0, 0.04], 20000, 1.0e-2)\n",
    "tn2, xn2 = ode_rk2((t, y)->pendulum(y, g, l), 0.0, [0.0, 0.04], 20000, 1.0e-2)\n",
    "tn3, xn3 = ode_rk4((t, y)->pendulum(y, g, l), 0.0, [0.0, 0.04], 20000, 1.0e-2)\n",
    "\n",
    "p1=plot(tn1, (180.0/π).* xn1[1,: ], label = \"Euler\", xlabel = L\"t\", ylabel = L\"\\textbf{Degree}\", title = L\"\\textbf{Pendulum}\", lc=:red, dpi=300)#, size=(400, 350))\n",
    "plot!(tn2, (180.0/π).* xn2[1,: ], label = \"RK2\", lc=:green)\n",
    "\n",
    "plot!(tn3, (180.0/π).* xn3[1,: ], label = \"RK4\", lc=:blue)#, xlabel = L\"t\", ylabel = L\"\\textbf{Amplitude}\", title = L\"RK4\", size=(400, 350))\n",
    "#savefig(\"ode_pendulum.png\")\n"
   ]
  },
  {
   "cell_type": "code",
   "execution_count": null,
   "metadata": {},
   "outputs": [],
   "source": [
    "function twobody(m1::Real, m2::Real, G::Real, xx::Vector{<:Real})\n",
    "    x, y, v, w = xx[1:3], xx[4:6], xx[7:9], xx[10:12]\n",
    "    r = y .- x\n",
    "    rn = norm(r)^3\n",
    "    k2 = (G*m2/rn) \n",
    "    k1 = (G*m1/rn) \n",
    "    A = zeros(12, 12)\n",
    "    A[1:3, 7:9] = [1 0 0; 0 1 0; 0 0 1]\n",
    "    A[4:6, 10:12] = [1 0 0; 0 1 0; 0 0 1]\n",
    "    A[7:9, 1:3] = [-k2 0 0; 0 -k2 0; 0  0 -k2]\n",
    "    A[7:9, 4:6] = [k2 0 0; 0 k2 0; 0 0 k2]\n",
    "    A[10:12, 4:6] = [-k1 0 0; 0 -k1 0; 0 0 -k1]\n",
    "    A[10:12, 1:3] = [k1 0 0; 0 k1 0; 0 0 k1]\n",
    "\n",
    "    return A*xx\n",
    "end"
   ]
  },
  {
   "cell_type": "code",
   "execution_count": null,
   "metadata": {},
   "outputs": [],
   "source": [
    "me = 5.972e24\n",
    "ms= 2.0e30\n",
    "G =  6.67384e−11\n",
    "v1 = 29.78e3\n",
    "r0 =147.10e9\n",
    "A=twobody(ms, me, G,[0, 0, 0, r0, 0, 0, 0, 0, 0, 0, v1, 0])\n",
    "tn3, xn3 = ode_rk4((t, y)->twobody(ms, me, G, y), 0.0, [0, 0, 0, r0, 0, 0, 0, 0, 0, 0, v1, 0], 8760, 3600)"
   ]
  },
  {
   "cell_type": "code",
   "execution_count": null,
   "metadata": {},
   "outputs": [],
   "source": []
  },
  {
   "cell_type": "code",
   "execution_count": null,
   "metadata": {},
   "outputs": [],
   "source": [
    "p1 = plot(xn3[4, : ], xn3[5, :], aspect_ratio = :equal, label=\"Earth\", lc=:green, frame=:box)\n",
    "p2 = plot(xn3[1, : ], xn3[2, :], aspect_ratio = :equal, label = \"Sun\", lc=:red, frame = :box)\n",
    "plot(p1, p2, size = [800, 400])"
   ]
  },
  {
   "cell_type": "code",
   "execution_count": null,
   "metadata": {},
   "outputs": [],
   "source": [
    "com = ((ms .* xn3[1:3, :]) .+ (me .* xn3[4:6, :])) ./ (ms+me)\n",
    "plot(com[1,:], com[2, :])#, aspect_ratio = :equal)"
   ]
  },
  {
   "cell_type": "code",
   "execution_count": null,
   "metadata": {},
   "outputs": [],
   "source": [
    "Diagonal([1,2,3])"
   ]
  },
  {
   "cell_type": "code",
   "execution_count": null,
   "metadata": {},
   "outputs": [],
   "source": [
    "24*365"
   ]
  },
  {
   "cell_type": "code",
   "execution_count": null,
   "metadata": {},
   "outputs": [],
   "source": []
  }
 ],
 "metadata": {
  "kernelspec": {
   "display_name": "Julia 1.10.2",
   "language": "julia",
   "name": "julia-1.10"
  },
  "language_info": {
   "file_extension": ".jl",
   "mimetype": "application/julia",
   "name": "julia",
   "version": "1.10.2"
  }
 },
 "nbformat": 4,
 "nbformat_minor": 2
}
