{
 "cells": [
  {
   "cell_type": "code",
   "execution_count": 12,
   "metadata": {},
   "outputs": [],
   "source": [
    "using LinearAlgebra, CairoMakie, BenchmarkTools"
   ]
  },
  {
   "cell_type": "code",
   "execution_count": 10,
   "metadata": {},
   "outputs": [
    {
     "ename": "Base.Meta.ParseError",
     "evalue": "ParseError:\n# Error @ /Users/jiyongso/Documents/Projects/JuliaNumerical/src/topics/notebooks/jl_notebook_cell_df34fa98e69747e1a8f8a730347b8e2f_W1sZmlsZQ==.jl:11:58\n\n- f = function of n-independent variables , `x` , and $m$ coefficients ,`p`, returning the simulated model : yhat = f(x, p)\n#                                                        └ ── identifier or parenthesized expression expected after $ in string",
     "output_type": "error",
     "traceback": [
      "ParseError:\n",
      "# Error @ /Users/jiyongso/Documents/Projects/JuliaNumerical/src/topics/notebooks/jl_notebook_cell_df34fa98e69747e1a8f8a730347b8e2f_W1sZmlsZQ==.jl:11:58\n",
      "\n",
      "- f = function of n-independent variables , `x` , and $m$ coefficients ,`p`, returning the simulated model : yhat = f(x, p)\n",
      "#                                                        └ ── identifier or parenthesized expression expected after $ in string\n",
      "\n",
      "Stacktrace:\n",
      " [1] top-level scope\n",
      "   @ ~/Documents/Projects/JuliaNumerical/src/topics/notebooks/jl_notebook_cell_df34fa98e69747e1a8f8a730347b8e2f_W1sZmlsZQ==.jl:11"
     ]
    }
   ],
   "source": [
    "struct FitResult\n",
    "    params\n",
    "    errors\n",
    "end\n",
    "\n",
    "\"\"\"\n",
    "    nFit\n",
    "\n",
    "Levenberg-Marquardt curve−fitting : minimize sum of weighted squared residuals\n",
    "\n",
    "- f = function of n-independent variables , `x` , and $m$ coefficients ,`p`, returning the simulated model : yhat = f(x, p)\n",
    "- p0 = initial guess of coefficient values ( n x 1)\n",
    "- xarr = arrays of independent variables (used as arg to func) (m x 1)\n",
    "- yarr =  data t o be fit by f(x, p) (m x 1)\n",
    "- earr =  nothing or Vector. weights or a scalar weight value. each entry should be positive (m x 1)\n",
    "        inverse of the standa r d measurement errors\n",
    "        Default :  (1/(yarr' ∗ yarr))\n",
    "\n",
    "- MaxIter = maximum number of iteration.\n",
    "- Lup, Ldown :\n",
    "- ϵ1, ϵ2, ϵ3, ϵ4 :\n",
    "- δ :  \n",
    "\"\"\"\n",
    "mutable struct nFit\n",
    "    f::Function\n",
    "    p::AbstractVector{<:Real}\n",
    "    xarr::AbstractVector{<:Real}\n",
    "    yarr::AbstractVector{<:Real}\n",
    "    earr::Union{Nothing, AbstractVector{<:Real}}\n",
    "    J::Matrix{<:Real}\n",
    "    W::Union{Nothing, AbstractMatrix{<:Real}}\n",
    "    MaxIter::Int\n",
    "    λ::Real\n",
    "    Lup::Real\n",
    "    Ldown::Real\n",
    "    ϵ1::Real\n",
    "    ϵ2::Real\n",
    "    ϵ3::Real\n",
    "    ϵ4::Real\n",
    "    δ::Real\n",
    "    \n",
    "    function nFit(f, p0, xarr, yarr, earr=nothing; MaxIter = 1000, λ=1.0e-2, Lup=11.0, Ldown=9.9, ϵ1 = 1.0e-3, ϵ2=1.0e-3, ϵ3 = 1.0e-1, ϵ4=1.0e-1, δ = 1.0e-3)\n",
    "        @assert length(xarr) == length(yarr)\n",
    "        if earr != nothing \n",
    "            @assert length(xarr) == length(earr)\n",
    "        end\n",
    "        try\n",
    "            f(xarr[1], p0)\n",
    "        catch\n",
    "            error(\"Unexpected behavior of function and parameters\")\n",
    "        end\n",
    "        J0 = zeros( length(xarr), length(p))\n",
    "        W = (earr === nothing) ? nothing : Matrix(Diagonal(earr))\n",
    "\n",
    "        new(f, p0, xarr, yarr, earr, J0, W, MaxIter, λ, Lup, Ldown, ϵ1, ϵ2, ϵ3, ϵ4, δ )\n",
    "    end\n",
    "end\n"
   ]
  },
  {
   "cell_type": "code",
   "execution_count": 3,
   "metadata": {},
   "outputs": [
    {
     "data": {
      "text/plain": [
       "fit (generic function with 1 method)"
      ]
     },
     "metadata": {},
     "output_type": "display_data"
    }
   ],
   "source": [
    "\n",
    "function jacobian(lm::nFit)\n",
    "    J = Array{Float64}(undef, (length(lm.xarr), length(lm.p)))\n",
    "    @inbounds for j ∈ 1:length(lm.p), i ∈ 1:length(lm.xarr)\n",
    "        p1, p2 = lm.p[:], lm.p[:]\n",
    "        p1[j] += lm.δ\n",
    "        p2[j] -= lm.δ\n",
    "        J[i, j] = (lm.f(lm.xarr[i], p1) - lm.f(lm.xarr[i], p2))/(2*lm.δ)\n",
    "    end\n",
    "    return J\n",
    "end\n",
    "\n",
    "\n",
    "\n",
    "function err(x::AbstractVector{<:Real}, y::AbstractVector{<:Real}, f::Function, p::AbstractVector)\n",
    "    h(x) = f(x, p)\n",
    "    return sum((y .- h.(x)).^2)\n",
    "end\n",
    "\n",
    "function err(lm::nFit)\n",
    "    return err(lm.xarr, lm.yarr, lm.f, lm.p)\n",
    "end\n",
    "\n",
    "function update_params(lm::nFit, p)\n",
    "    lm.p = p\n",
    "end\n",
    "\n",
    "function calc_result(lm::nFit)\n",
    "    reducederr = err(lm::nFit)/(length(lm.xarr) - length(lm.p))\n",
    "    cov = inv((lm.J)' * (lm.J))\n",
    "    err = sqrt.(diag(cov))\n",
    "end\n",
    "\n",
    "function fit(lm::nFit)\n",
    "    Nitter = 0\n",
    "    ee = err(lm)\n",
    "    \n",
    "    qs = 0.0\n",
    "    \n",
    "    while Nitter < lm.MaxIter\n",
    "\n",
    "        Nitter += 1\n",
    "        J = jacobian(lm)\n",
    "        JtJ = J'*J\n",
    "        dD = Diagonal(diag(JtJ))\n",
    "        dy =  lm.yarr .- [lm.f(t, lm.p) for t in lm.xarr]\n",
    "        h = inv(JtJ .+ lm.λ .* dD) * J' * dy\n",
    "        err0 = err(lm)\n",
    "        # 수렴 확인\n",
    "        cc1 = maximum(abs.(J'*dy)) < lm.ϵ1\n",
    "        cc2 = maximum(abs.(lm.p ./ h)) < lm.ϵ2\n",
    "        cc3 = err0/(length(lm.xarr) - length(lm.p)) < lm.ϵ3\n",
    "\n",
    "        if cc1 || cc2 || cc3\n",
    "            break\n",
    "        end\n",
    "\n",
    "        dn = (h' * (lm.λ .* dD) * h) .+ J' * dy\n",
    "        ρ = err0 - err(lm.xarr, lm.yarr, lm.f, lm.p .+ h)/norm(dn) \n",
    "\n",
    "\n",
    "        if ρ > lm.ϵ4 \n",
    "            lm.p = lm.p .+ h\n",
    "            lm.λ = max(lm.λ/lm.Ldown, 1.0e-7)\n",
    "        else \n",
    "            lm.λ = min(lm.λ*lm.Lup, 1.0e7)\n",
    "        end\n",
    "        println(lm.p, lm.λ, Nitter, err(lm))\n",
    "    end\n",
    "    return lm.p\n",
    "end"
   ]
  },
  {
   "cell_type": "code",
   "execution_count": 4,
   "metadata": {},
   "outputs": [
    {
     "data": {
      "text/plain": [
       "nFit(Main.q, [2.0, 1.0, 5.0], 0.0:0.1:10.0, [0.42145300289609366, 1.2082340795267488, 2.821540016470666, 3.5848347229937314, 5.1314105050709635, 6.305999581006898, 7.402236435302888, 8.544458507748743, 9.338809569115645, 10.35313956368236  …  65.61910168086426, 65.9636471019667, 65.81469325414085, 66.35147884852174, 66.39089656063192, 66.44197896097994, 66.90015878324546, 66.89375563617027, 67.19498893154434, 67.30254159624315], nothing, [0.0 0.0 0.0; 0.0 0.0 0.0; … ; 0.0 0.0 0.0; 0.0 0.0 0.0], nothing, 10, 0.01, 11.0, 9.9, 0.001, 0.001, 0.1, 0.1, 0.001)"
      ]
     },
     "metadata": {},
     "output_type": "display_data"
    }
   ],
   "source": [
    "q(x, p) = p[1]*sin(x) + p[2] * x + p[3]\n",
    "t=0.0:0.1:10.0\n",
    "data = 5.0*sin.(t) .+ 7.0 .* t .+ (0.5.*rand(length(t)))\n",
    "\n",
    "# jacobian(q, t, [2.0, 1], 0.001)\n",
    "lm = nFit(q, [2.0, 1.0, 5.0], t, data, MaxIter=10)"
   ]
  },
  {
   "cell_type": "code",
   "execution_count": 5,
   "metadata": {},
   "outputs": [
    {
     "name": "stdout",
     "output_type": "stream",
     "text": [
      "[4.880797871246246, 6.743153638084552, 1.6012220134474977]0.00101010101010101154.94613973299553\n",
      "[5.006905489139682, 6.989926440343225, 0.3120686973816773]0.0001020304050607080922.015622697933188\n"
     ]
    },
    {
     "data": {
      "text/plain": [
       "3-element Vector{Float64}:\n",
       " 5.006905489139682\n",
       " 6.989926440343225\n",
       " 0.3120686973816773"
      ]
     },
     "metadata": {},
     "output_type": "display_data"
    }
   ],
   "source": [
    "fit(lm)"
   ]
  },
  {
   "cell_type": "code",
   "execution_count": 7,
   "metadata": {},
   "outputs": [
    {
     "data": {
      "text/plain": [
       "2.015622697933188"
      ]
     },
     "metadata": {},
     "output_type": "display_data"
    }
   ],
   "source": [
    "err(lm)"
   ]
  },
  {
   "cell_type": "code",
   "execution_count": null,
   "metadata": {},
   "outputs": [],
   "source": [
    "err(lm)"
   ]
  },
  {
   "cell_type": "code",
   "execution_count": null,
   "metadata": {},
   "outputs": [],
   "source": []
  }
 ],
 "metadata": {
  "kernelspec": {
   "display_name": "Julia 1.11.2",
   "language": "julia",
   "name": "julia-1.11"
  },
  "language_info": {
   "file_extension": ".jl",
   "mimetype": "application/julia",
   "name": "julia",
   "version": "1.11.2"
  }
 },
 "nbformat": 4,
 "nbformat_minor": 2
}
