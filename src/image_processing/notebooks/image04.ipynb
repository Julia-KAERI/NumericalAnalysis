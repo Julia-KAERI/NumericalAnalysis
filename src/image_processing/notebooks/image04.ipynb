{
 "cells": [
  {
   "cell_type": "code",
   "execution_count": null,
   "metadata": {},
   "outputs": [],
   "source": [
    "using Pkg, CairoMakie, LaTeXStrings, LinearAlgebra, FFTW\n",
    "Pkg.activate(\"/Users/jiyong/.juliaenv/image\")\n",
    "using OpenCV, TestImages\n",
    "const cv = OpenCV"
   ]
  },
  {
   "cell_type": "code",
   "execution_count": null,
   "metadata": {},
   "outputs": [],
   "source": [
    "include(\"cvext.jl\")"
   ]
  },
  {
   "cell_type": "code",
   "execution_count": null,
   "metadata": {},
   "outputs": [],
   "source": [
    "fig = Figure()\n",
    "ax1 = Axis(fig[1,1], title=L\"f(t)\", limits = (-5, 5, 0, 7), xticks=([-1, 0, 1], [L\"-T\", L\"0\",  L\"T\"]), yticks=([], []), xgridvisible = false, ygridvisible = false, xlabel = L\"t\")\n",
    "f = x->0.5*exp(-(x+4.5)^2/0.3) + 5.0*exp(-(x+1)^2/0.7) + 4.0*exp(-(x-1)^2/2) + 2.0*exp(-(x-4)^2/2) +0.4*exp(-(x-7.5)^2/2)+0.1\n",
    "t=-5:0.1:5\n",
    "lines!(ax1, t, f.(t))\n",
    "t2 = -5:1:5\n",
    "for i in t2\n",
    "    lines!(ax1, [i, i], [0, 1], color=:red)\n",
    "end\n",
    "\n",
    "ax2 = Axis(fig[2, 1], title = L\"f_I(t)\", limits = (-5, 5, 0, 7), xticks=([-1, 0, 1], [L\"-T\", L\"0\",  L\"T\"]), yticks=([], []), xgridvisible = false, ygridvisible = false, xlabel = L\"t\")\n",
    "\n",
    "scatter!(ax2, t2, f.(t2))\n",
    "#save(\"sampling.png\", fig)\n",
    "fig"
   ]
  },
  {
   "cell_type": "code",
   "execution_count": null,
   "metadata": {},
   "outputs": [],
   "source": [
    "struct skew\n",
    "    x0::Float64\n",
    "    w::Float64\n",
    "end\n",
    "\n",
    "function (p::skew)(x)\n",
    "    x0, w= p.x0, p.w\n",
    "    \n",
    "    if abs(x-x0) > w\n",
    "        return 0.0\n",
    "    \n",
    "    elseif x>x0\n",
    "        return -1.0/w*(x-x0)+1\n",
    "    else\n",
    "        return 1.0/w*(x-x0)+1\n",
    "    return y\n",
    "    end\n",
    "end\n",
    "\n",
    "p = skew(0, 1)\n",
    "fig = Figure(size=(400, 600))\n",
    "ax1 = Axis(fig[1,1], title=L\"\\hat{f}(\\mu)\", limits=(-5, 5, -0.1, 1.1), xticks = ([-1, 0,  1], [L\"-\\mu_M\", L\"0\", L\"\\mu_M\"]), yticks=([0, 1]), xgridvisible = false, ygridvisible = false)\n",
    "u0 = -5:0.01:5\n",
    "lines!(ax1, u0, p.(u0))\n",
    "text!(ax1, L\"(a)\", position=(-4.8,0.8))\n",
    "\n",
    "ax2 = Axis(fig[2,1], title=L\"\\hat{f}_s(\\mu)\", limits=(-5, 5, -0.1, 1.1),xticks = ([-2.5,0,  2.5], [L\"-1/T\",L\"0\", L\"1/T\"]), yticks=([0, 1]), xgridvisible = false, ygridvisible = false)\n",
    "q(x) = skew(0, 1)(x) + skew(2.5, 1)(x) + skew(-2.5, 1)(x) + skew(5, 1)(x) + skew(-5, 1)(x)\n",
    "t1=-5:0.01:5\n",
    "lines!(ax2, t1, q.(t1))\n",
    "text!(ax2, L\"(b)\", position=(-4.8,0.8))\n",
    "\n",
    "ax3 = Axis(fig[3,1], title=L\"\\hat{f}_s(\\mu)\", limits=(-5, 5, -0.1, 1.1), xticks = ([-1,0,  1], [L\"-1/T\", L\"0\", L\"1/T\"]),  yticks=([0, 1]), xgridvisible = false, ygridvisible = false)\n",
    "q(x) = skew(0, 1)(x) + skew(2, 1)(x) + skew(-2, 1)(x) + skew(4, 1)(x) + skew(-4, 1)(x)\n",
    "t2=-5:0.01:5\n",
    "lines!(ax3, t2, q.(t2))\n",
    "text!(ax3, L\"(c)\", position=(-4.8,0.8))\n",
    "\n",
    "ax4 = Axis(fig[4,1], title=L\"\\hat{f}_s(\\mu)\",limits=(-5, 5, -0.1, 1.1),  xticks = ([-1.7,0,  1.7], [L\"-1/T\",L\"0\", L\"1/T\"]),  yticks=([0, 1]), xgridvisible = false, ygridvisible = false)\n",
    "q(x) = skew(0, 1)(x) + skew(1.7, 1)(x) + skew(-1.7, 1)(x) + skew(3.4, 1)(x) + skew(-3.4, 1)(x) +skew(5.1, 1)(x) + skew(-5.1, 1)(x)\n",
    "t3 = -5:0.01:5\n",
    "lines!(ax4, t3, q.(t3))\n",
    "text!(ax4, L\"(d)\", position=(-4.8,0.8))\n",
    "\n",
    "fig\n",
    "#save(\"sample_freqdomain.png\", fig)"
   ]
  },
  {
   "cell_type": "code",
   "execution_count": null,
   "metadata": {},
   "outputs": [],
   "source": []
  },
  {
   "cell_type": "code",
   "execution_count": null,
   "metadata": {},
   "outputs": [],
   "source": []
  },
  {
   "cell_type": "code",
   "execution_count": null,
   "metadata": {},
   "outputs": [],
   "source": [
    "t=-1:0.1:1\n",
    "lines(imag.(fftshift(fft(p.(t)))))"
   ]
  },
  {
   "cell_type": "code",
   "execution_count": null,
   "metadata": {},
   "outputs": [],
   "source": [
    "cv.Mat(ft1.data[2:2,:,:]);"
   ]
  },
  {
   "cell_type": "code",
   "execution_count": null,
   "metadata": {},
   "outputs": [],
   "source": [
    "cc = fft(img1a)[:,:,1]\n",
    "cvx.arr2mat(real(cc));"
   ]
  },
  {
   "cell_type": "code",
   "execution_count": null,
   "metadata": {},
   "outputs": [],
   "source": [
    "function a2m(arr::Array{T, 3}) where T<:Union{Float32, Float64, Int16, Int32, Int8, UInt16, UInt8}\n",
    "    OpenCV.Mat(permutedims(arr, [3,2,1]))\n",
    "end\n",
    "\n",
    "X = zeros(UInt8, (256, 512))\n",
    "X[(128-5):(128+5), (256-15):(256+15)].= 255\n",
    "img1 = cvx.arr2mat(X)\n",
    "img1f = cvx.ConvertTo(img1, Float32)\n",
    "img2 = cv.dft(img1f, flags=cv.DFT_COMPLEX_OUTPUT);\n",
    "img22 = cvx.fftshift(img2)\n",
    "arr2 = cvx.mat2arr(img2)\n",
    "img1\n"
   ]
  },
  {
   "cell_type": "code",
   "execution_count": null,
   "metadata": {},
   "outputs": [],
   "source": [
    "cv.split(img2)[1]"
   ]
  },
  {
   "cell_type": "code",
   "execution_count": null,
   "metadata": {},
   "outputs": [],
   "source": [
    "heatmap(log.(1.0 .+ sqrt.(arr2[:,:,1].^2 + arr2[:,:,2].^2)))"
   ]
  },
  {
   "cell_type": "code",
   "execution_count": null,
   "metadata": {},
   "outputs": [],
   "source": [
    "Xf0 = fft(X')\n",
    "Xf = fftshift(Xf0)\n",
    "f = Figure(size=(800, 400))\n",
    "ax1 = Axis(f[1, 1], aspect=DataAspect(), yreversed = true, title = L\"X\")\n",
    "hm1 = heatmap!(ax1, X')\n",
    "ax2 = Axis(f[1, 2], aspect=DataAspect(), yreversed = true, title=L\"\\mathfrak{F}[X]\")\n",
    "hm2 = heatmap!(ax2, log.(1.0 .+ abs.(Xf)))\n",
    "ax3 = Axis(f[2, 1], aspect=DataAspect(), yreversed = true, title = L\"\\text{Re}(\\mathfrak{F}[X])\")\n",
    "hm3 = heatmap!(ax3, log.(1.0 .+ abs.(real(Xf))))\n",
    "ax4 = Axis(f[2, 2], aspect=DataAspect(), yreversed = true, title = L\"\\text{Im}(\\mathfrak{F}[X])\")\n",
    "hm4 = heatmap!(ax4, log.(1.0 .+ abs.(imag(Xf))))\n",
    "f\n"
   ]
  },
  {
   "cell_type": "code",
   "execution_count": null,
   "metadata": {},
   "outputs": [],
   "source": [
    "heatmap(log.(1.0 .+ abs.(Xf)))\n"
   ]
  },
  {
   "cell_type": "code",
   "execution_count": null,
   "metadata": {},
   "outputs": [],
   "source": []
  },
  {
   "cell_type": "code",
   "execution_count": null,
   "metadata": {},
   "outputs": [],
   "source": [
    "\n",
    "fig, ax, hm = heatmap(log.(1.0 .+ abs.(fftshift(real(fft(X))))))\n",
    "Colorbar(fig[:, end+1], hm)\n",
    "fig"
   ]
  },
  {
   "cell_type": "code",
   "execution_count": null,
   "metadata": {},
   "outputs": [],
   "source": [
    "\n",
    "fig, ax, hm = heatmap(log.(1.0 .+ abs.(real(fft(X)))))\n",
    "Colorbar(fig[:, end+1], hm)\n",
    "fig"
   ]
  },
  {
   "cell_type": "code",
   "execution_count": null,
   "metadata": {},
   "outputs": [],
   "source": [
    "\n",
    "function tifftshift(v::Vector)\n",
    "    m = length(v)\n",
    "    n = iseven(m) ? div(m, 2) : div(m, 2)\n",
    "    return [v[n+1:end]; v[1:n] ]\n",
    "end \n",
    "\n",
    "\n",
    "function tifftshift(A::Matrix)\n",
    "    h, w = size(A)\n",
    "    m = iseven(h) ? div(h, 2) : div(h, 2)\n",
    "    n = iseven(w) ? div(w, 2) : div(w, 2)\n",
    "    return [A[m+1:end, n+1:end] A[m+1:end, 1:n] ; A[1:m, n+1:end] A[1:m, 1:n] ]\n",
    "end\n",
    "\n"
   ]
  },
  {
   "cell_type": "code",
   "execution_count": null,
   "metadata": {},
   "outputs": [],
   "source": [
    "ps = reshape(collect(Int32, 1:64), (8, 8))\n",
    "ifftshift(ps)"
   ]
  },
  {
   "cell_type": "code",
   "execution_count": null,
   "metadata": {},
   "outputs": [],
   "source": [
    "tifftshift(ps)"
   ]
  },
  {
   "cell_type": "code",
   "execution_count": null,
   "metadata": {},
   "outputs": [],
   "source": [
    "tfftshift(p)"
   ]
  },
  {
   "cell_type": "code",
   "execution_count": null,
   "metadata": {},
   "outputs": [],
   "source": [
    "tfftshift(p)[1,:,:]"
   ]
  },
  {
   "cell_type": "code",
   "execution_count": null,
   "metadata": {},
   "outputs": [],
   "source": [
    "cvx.fftshift(ft1)"
   ]
  },
  {
   "cell_type": "code",
   "execution_count": null,
   "metadata": {},
   "outputs": [],
   "source": [
    "function tfftshift(A::OpenCV.Mat)\n",
    "    \n",
    "    # to be imporved by reducing array allocation\n",
    "    return arr2mat(fftshift(mat2arr(A)[:,:,1]))\n",
    "end"
   ]
  },
  {
   "cell_type": "code",
   "execution_count": null,
   "metadata": {},
   "outputs": [],
   "source": [
    "size(ft1)"
   ]
  },
  {
   "cell_type": "code",
   "execution_count": null,
   "metadata": {},
   "outputs": [],
   "source": [
    "#permutedims(stack([arr, ]), [3,2,1]))\n",
    "xx = OpenCV.Mat(permutedims(stack([cvx.fftshift(cvx.mat2arr(ft1)[:, :, i]) for i in 1:size(img2)[1]], dims=3), [3,2,1]))\n",
    "yy = sqrt.(xx[1,:,:].^2 .+ xx[2,:,:,].^2)\n",
    "log.(1.0 .+ yy)\n",
    "fig, ax, hm = heatmap(log.(1.0 .+ yy))\n",
    "Colorbar(fig[:, end+1], hm)\n",
    "fig"
   ]
  },
  {
   "cell_type": "code",
   "execution_count": null,
   "metadata": {},
   "outputs": [],
   "source": [
    "xx"
   ]
  },
  {
   "cell_type": "code",
   "execution_count": null,
   "metadata": {},
   "outputs": [],
   "source": [
    "cvx.mat2arr(ft1[1, :, :])"
   ]
  },
  {
   "cell_type": "code",
   "execution_count": null,
   "metadata": {},
   "outputs": [],
   "source": [
    "size(img0)"
   ]
  },
  {
   "cell_type": "code",
   "execution_count": null,
   "metadata": {},
   "outputs": [],
   "source": [
    "size(img22)"
   ]
  },
  {
   "cell_type": "code",
   "execution_count": null,
   "metadata": {},
   "outputs": [],
   "source": [
    "ps=cv.imread(\"../imgs/ero-adbox-gallery-2020-033a-2400x1200.jpg\");\n"
   ]
  },
  {
   "cell_type": "code",
   "execution_count": null,
   "metadata": {},
   "outputs": [],
   "source": [
    "size(ps)"
   ]
  },
  {
   "cell_type": "code",
   "execution_count": null,
   "metadata": {},
   "outputs": [],
   "source": []
  },
  {
   "cell_type": "code",
   "execution_count": null,
   "metadata": {},
   "outputs": [],
   "source": []
  },
  {
   "cell_type": "code",
   "execution_count": null,
   "metadata": {},
   "outputs": [],
   "source": []
  },
  {
   "cell_type": "code",
   "execution_count": null,
   "metadata": {},
   "outputs": [],
   "source": [
    "xq=cv.split(ps)"
   ]
  },
  {
   "cell_type": "code",
   "execution_count": null,
   "metadata": {},
   "outputs": [],
   "source": [
    "cv.merge(OpenCV.InputArray[xq[1],xq[2], xq[3]]);"
   ]
  },
  {
   "cell_type": "code",
   "execution_count": null,
   "metadata": {},
   "outputs": [],
   "source": [
    "cv.dft(cvx.ConvertTo(ps, Float32), flags=cv.DFT_COMPLEX_OUTPUT);"
   ]
  },
  {
   "cell_type": "code",
   "execution_count": null,
   "metadata": {},
   "outputs": [],
   "source": [
    "cvx.ConvertTo(ps, Float32);"
   ]
  },
  {
   "cell_type": "code",
   "execution_count": null,
   "metadata": {},
   "outputs": [],
   "source": [
    "ps.data"
   ]
  },
  {
   "cell_type": "code",
   "execution_count": null,
   "metadata": {},
   "outputs": [],
   "source": [
    "OpenCV.InputArray[xq[1],xq[2], xq[3]]"
   ]
  },
  {
   "cell_type": "code",
   "execution_count": null,
   "metadata": {},
   "outputs": [],
   "source": [
    "mod(3.0, 0)"
   ]
  },
  {
   "cell_type": "code",
   "execution_count": null,
   "metadata": {},
   "outputs": [],
   "source": []
  }
 ],
 "metadata": {
  "kernelspec": {
   "display_name": "Julia 1.10.2",
   "language": "julia",
   "name": "julia-1.10"
  },
  "language_info": {
   "file_extension": ".jl",
   "mimetype": "application/julia",
   "name": "julia",
   "version": "1.10.2"
  }
 },
 "nbformat": 4,
 "nbformat_minor": 2
}
