{
 "cells": [
  {
   "cell_type": "code",
   "execution_count": null,
   "metadata": {},
   "outputs": [],
   "source": [
    "using Pkg, CairoMakie, LaTeXStrings, LinearAlgebra, FFTW\n",
    "Pkg.activate(\"/Users/jiyong/.juliaenv/image\")\n",
    "using OpenCV, TestImages\n",
    "const cv = OpenCV"
   ]
  },
  {
   "cell_type": "code",
   "execution_count": null,
   "metadata": {},
   "outputs": [],
   "source": [
    "include(\"cvext.jl\")\n",
    "\n"
   ]
  },
  {
   "cell_type": "code",
   "execution_count": null,
   "metadata": {},
   "outputs": [],
   "source": [
    "F= cvx.img2mat(testimage(\"pirate.tif\"))\n",
    "G=cvx.fftshift(cv.dft(Float32.(F), flags=cv.DFT_COMPLEX_OUTPUT))\n",
    "h, w = size(G)[2:3]\n",
    "cx, cy = size(F)[2:3] .>>1 .+ 1\n",
    "\n",
    "H, L = copy(G), copy(G)\n",
    "\n",
    "R=10\n",
    "for j = 1:w, i =1:h\n",
    "    if (i-cy)^2 + (j-cx)^2 < R^2 \n",
    "        H[:, i, j] .= 0.0f0\n",
    "    else \n",
    "        L[:, i, j] .= 0.0f0\n",
    "    end\n",
    "end\n",
    "\n",
    "function abs(X::OpenCV.Mat)\n",
    "    r = zero(X[1,:,:])\n",
    "    for i in 1:size(X)[1]\n",
    "        r = r .+ X[i,:,:].^2\n",
    "    end\n",
    "    OpenCV.Mat(stack([sqrt.(r),], dims=1))\n",
    "end"
   ]
  },
  {
   "cell_type": "code",
   "execution_count": null,
   "metadata": {},
   "outputs": [],
   "source": [
    "heatmap(cv.idft(H)[1,:,:])"
   ]
  },
  {
   "cell_type": "code",
   "execution_count": null,
   "metadata": {},
   "outputs": [],
   "source": []
  }
 ],
 "metadata": {
  "kernelspec": {
   "display_name": "Julia 1.10.2",
   "language": "julia",
   "name": "julia-1.10"
  },
  "language_info": {
   "file_extension": ".jl",
   "mimetype": "application/julia",
   "name": "julia",
   "version": "1.10.2"
  }
 },
 "nbformat": 4,
 "nbformat_minor": 2
}
