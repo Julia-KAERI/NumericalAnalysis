{
 "cells": [
  {
   "cell_type": "code",
   "execution_count": null,
   "metadata": {},
   "outputs": [],
   "source": [
    "using Pkg, CairoMakie, LaTeXStrings, LinearAlgebra\n",
    "Pkg.activate(\"/Users/jiyong/.juliaenv/image\")\n",
    "using OpenCV, TestImages\n",
    "include(\"cvext.jl\")"
   ]
  },
  {
   "cell_type": "code",
   "execution_count": 205,
   "metadata": {},
   "outputs": [],
   "source": [
    "img0= testimage_dip3e(\"Fig0227(a)(washington_infrared).tif\")\n",
    "img1 = cv.resize(img2mat(img0), cv.Size{Int32}(256, 256))\n",
    "img2 = arr2mat(round.(UInt8, ((img1./255).^0.5)*255))\n",
    "img3 = arr2mat(round.(UInt8, ((img1./255).^2)*255))\n",
    "img4 = arr2mat(round.(UInt8, ((img1./255).^5)*255));"
   ]
  },
  {
   "cell_type": "code",
   "execution_count": 206,
   "metadata": {},
   "outputs": [],
   "source": [
    "arr2mat(cat(img1, img2, img3, img4; dims=2));"
   ]
  },
  {
   "cell_type": "code",
   "execution_count": 4,
   "metadata": {},
   "outputs": [],
   "source": []
  },
  {
   "cell_type": "code",
   "execution_count": 207,
   "metadata": {},
   "outputs": [],
   "source": [
    "fig = Figure()\n",
    "ax = Axis(fig[1,1])\n",
    "for (img, g) in zip([img1, img2, img3, img4], [1.0, 0.5, 2, 5])\n",
    "    b, v = histogram1d(img)\n",
    "    lines!(ax, b, v, label = L\"\\gamma = %$g\")\n",
    "end\n",
    "axislegend()\n",
    "fig;"
   ]
  },
  {
   "cell_type": "code",
   "execution_count": 6,
   "metadata": {},
   "outputs": [],
   "source": [
    "#save(\"histogram_gamma.png\", fig)"
   ]
  },
  {
   "cell_type": "code",
   "execution_count": 7,
   "metadata": {},
   "outputs": [],
   "source": []
  },
  {
   "cell_type": "code",
   "execution_count": null,
   "metadata": {},
   "outputs": [],
   "source": [
    "img5 = cv.equalizeHist(img4)\n",
    "s = arr2mat(cat(img1, img4, img5; dims=2));\n",
    "# cv.imwrite(\"equalize_histogram_1.png\", s)"
   ]
  },
  {
   "cell_type": "code",
   "execution_count": null,
   "metadata": {},
   "outputs": [],
   "source": [
    "fig = Figure()\n",
    "ax = Axis(fig[1,1])\n",
    "for (img, g) in zip([img1, img4, img5], [\"Original\", \"\\\\gamma=5\", \"Equalized\"])\n",
    "    b, v = histogram1d(img)\n",
    "    lines!(ax, b, v, label = L\"%$g\")\n",
    "end\n",
    "axislegend()\n",
    "fig;\n",
    "#save(\"equalize_histogram.png\", fig)"
   ]
  },
  {
   "cell_type": "code",
   "execution_count": 210,
   "metadata": {},
   "outputs": [],
   "source": []
  },
  {
   "cell_type": "code",
   "execution_count": null,
   "metadata": {},
   "outputs": [],
   "source": [
    "img0= cv.resize(img2mat(testimage(\"cameraman.tif\")), cv.Size{Int32}(100, 100))\n",
    "img1 = cv.resize(img0, cv.Size(Int32(256), Int32(256));interpolation= cv.INTER_NEAREST)\n",
    "img2 = cv.resize(img0, cv.Size(Int32(256), Int32(256));interpolation= cv.INTER_LINEAR)\n",
    "img3 = cv.resize(img0, cv.Size(Int32(256), Int32(256));interpolation= cv.INTER_CUBIC)\n",
    "img4 = cv.resize(img0, cv.Size(Int32(256), Int32(256));interpolation= cv.INTER_LANCZOS4)\n",
    "s = arr2mat(cat(img1, img2, img3, img4; dims=2));\n",
    "#cv.imwrite(\"interpolation.png\", s)"
   ]
  },
  {
   "cell_type": "code",
   "execution_count": null,
   "metadata": {},
   "outputs": [],
   "source": [
    "img0= img2mat(testimage(\"cameraman.tif\"))\n"
   ]
  },
  {
   "cell_type": "code",
   "execution_count": null,
   "metadata": {},
   "outputs": [],
   "source": [
    "img_gn = gaussian_noise(img0, 100, 10, 10000)\n",
    "img_sp = salt_pepper_noise(img0, 10000)\n",
    "img2=arr2mat(cat([img_gn img_sp]; dims=2))"
   ]
  },
  {
   "cell_type": "code",
   "execution_count": 114,
   "metadata": {},
   "outputs": [],
   "source": []
  },
  {
   "cell_type": "code",
   "execution_count": null,
   "metadata": {},
   "outputs": [],
   "source": [
    "fig = Figure()\n",
    "ax = Axis(fig[1,1])\n",
    "for (img, g) in zip([img_gn, img_sp], [\"Gaussian\", \"Salt-Pepper\"])\n",
    "    b, v = histogram1d(img)\n",
    "    lines!(ax, b, v, label = \"$g\")\n",
    "end\n",
    "axislegend()\n",
    "fig\n",
    "#save(\"noise_histogram.png\", fig)\n"
   ]
  },
  {
   "cell_type": "code",
   "execution_count": 116,
   "metadata": {},
   "outputs": [],
   "source": [
    "\n"
   ]
  },
  {
   "cell_type": "code",
   "execution_count": null,
   "metadata": {},
   "outputs": [],
   "source": [
    "function conv2d(img, ker)\n",
    "    m, n = size(A)\n",
    "    p, q = size(k)\n",
    "    @assert isodd(p) && isodd(q)\n",
    "    c, d = p>>1, q>>1\n",
    "    \n",
    "    R = zero(img)\n",
    "\n",
    "    dx, dy = div(p,2), div(q, 2)\n",
    "    for j ∈ (dx+1):(m-dx), i ∈ (dy+1):(n-dy)\n",
    "        \n",
    "        for t ∈ 1:q, s ∈ 1:p\n",
    "            R[i, j] += ker[s, t] * img[i-(s-c-1), j-(t-d-1)]\n",
    "        end\n",
    "    end\n",
    "\n",
    "    return R[dy+1:end-dy, dx+1:end-dx]\n",
    "end"
   ]
  },
  {
   "cell_type": "code",
   "execution_count": null,
   "metadata": {},
   "outputs": [],
   "source": [
    "h, w = size(img0)[2:3]\n",
    "cX, cY = Float32(h/2), Float32(w/2)\n",
    "M = cv.getRotationMatrix2D(cvPoint(cX, cY), 45.0, 0.7)\n",
    "r1 = cv.warpAffine(img0, M, cvSize(w, h), flags=cv.INTER_NEAREST)\n",
    "r2 = cv.warpAffine(img0, M, cvSize(w, h), flags=cv.INTER_CUBIC)\n",
    "img3 = arr2mat(cat([r1 r2]; dims=2))"
   ]
  },
  {
   "cell_type": "code",
   "execution_count": null,
   "metadata": {},
   "outputs": [],
   "source": [
    "cv.Mat{Int8}(Int8.(abs.(Int16.(r1) .- Int16.(r2))))\n"
   ]
  },
  {
   "cell_type": "code",
   "execution_count": null,
   "metadata": {},
   "outputs": [],
   "source": [
    "arr2mat(cat([img_sp cv.medianBlur(img_sp, 3)]; dims=2))"
   ]
  },
  {
   "cell_type": "code",
   "execution_count": null,
   "metadata": {},
   "outputs": [],
   "source": [
    "arr2mat(cat([img0 cv.blur(img0, cvSize(5,5\n",
    "))]; dims=2))"
   ]
  },
  {
   "cell_type": "code",
   "execution_count": null,
   "metadata": {},
   "outputs": [],
   "source": [
    "size(cv.getRotationMatrix2D(cv.Point(cX, cY), 45.0, 1.0))"
   ]
  },
  {
   "cell_type": "code",
   "execution_count": null,
   "metadata": {},
   "outputs": [],
   "source": [
    "M2=arr2mat(Float32.([1/√2 1/√2 -256; -1/√2 1/√2 -256]))"
   ]
  },
  {
   "cell_type": "code",
   "execution_count": null,
   "metadata": {},
   "outputs": [],
   "source": []
  },
  {
   "cell_type": "code",
   "execution_count": 201,
   "metadata": {},
   "outputs": [],
   "source": [
    "aa= imgx_sqmu .- imgx_musq;"
   ]
  },
  {
   "cell_type": "code",
   "execution_count": null,
   "metadata": {},
   "outputs": [],
   "source": [
    "extrema(aa)"
   ]
  },
  {
   "cell_type": "code",
   "execution_count": null,
   "metadata": {},
   "outputs": [],
   "source": [
    "p0 = Float32[1 1; 2 1; 3 3]\n",
    "q0 = Float32[2 3; 3 4; 4 6]\n",
    "p1, q1 = arr2mat(p0), arr2mat(q0)"
   ]
  },
  {
   "cell_type": "code",
   "execution_count": null,
   "metadata": {},
   "outputs": [],
   "source": []
  },
  {
   "cell_type": "code",
   "execution_count": 215,
   "metadata": {},
   "outputs": [],
   "source": []
  },
  {
   "cell_type": "code",
   "execution_count": null,
   "metadata": {},
   "outputs": [],
   "source": []
  }
 ],
 "metadata": {
  "kernelspec": {
   "display_name": "Julia 1.10.2",
   "language": "julia",
   "name": "julia-1.10"
  },
  "language_info": {
   "file_extension": ".jl",
   "mimetype": "application/julia",
   "name": "julia",
   "version": "1.10.2"
  }
 },
 "nbformat": 4,
 "nbformat_minor": 2
}
