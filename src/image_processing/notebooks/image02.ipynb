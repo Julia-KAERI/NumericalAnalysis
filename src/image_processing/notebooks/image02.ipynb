{
 "cells": [
  {
   "cell_type": "code",
   "execution_count": 2,
   "metadata": {},
   "outputs": [
    {
     "name": "stderr",
     "output_type": "stream",
     "text": [
      "\u001b[32m\u001b[1m  Activating\u001b[22m\u001b[39m project at `~/.juliaenv/image`\n"
     ]
    },
    {
     "data": {
      "text/plain": [
       "cvSize (generic function with 1 method)"
      ]
     },
     "metadata": {},
     "output_type": "display_data"
    }
   ],
   "source": [
    "using Pkg, CairoMakie, LaTeXStrings, LinearAlgebra\n",
    "Pkg.activate(\"/Users/jiyong/.juliaenv/image\")\n",
    "using OpenCV, TestImages\n",
    "include(\"cvext.jl\")"
   ]
  },
  {
   "cell_type": "code",
   "execution_count": 3,
   "metadata": {},
   "outputs": [],
   "source": [
    "img0= img2mat(testimage(\"cameraman.tif\"));"
   ]
  },
  {
   "cell_type": "code",
   "execution_count": 4,
   "metadata": {},
   "outputs": [],
   "source": [
    "imgx = cv.Mat(convert.(Int32, img0))\n",
    "imgx_sq = cv.Mat(imgx .* imgx)\n",
    "imgx_mu = cv.blur(imgx, cvSize(3, 3))\n",
    "imgx_sqmu = cv.blur(imgx_sq, cvSize(3, 3))\n",
    "imgx_musq = cv.Mat(imgx_mu .* imgx_mu)\n",
    "cv.Mat((imgx_sqmu .- imgx_musq));"
   ]
  },
  {
   "cell_type": "code",
   "execution_count": 5,
   "metadata": {},
   "outputs": [
    {
     "data": {
      "text/plain": [
       "5"
      ]
     },
     "metadata": {},
     "output_type": "display_data"
    }
   ],
   "source": [
    "2+3"
   ]
  },
  {
   "cell_type": "code",
   "execution_count": null,
   "metadata": {},
   "outputs": [],
   "source": [
    "|"
   ]
  }
 ],
 "metadata": {
  "kernelspec": {
   "display_name": "Julia 1.10.2",
   "language": "julia",
   "name": "julia-1.10"
  },
  "language_info": {
   "file_extension": ".jl",
   "mimetype": "application/julia",
   "name": "julia",
   "version": "1.10.2"
  }
 },
 "nbformat": 4,
 "nbformat_minor": 2
}
