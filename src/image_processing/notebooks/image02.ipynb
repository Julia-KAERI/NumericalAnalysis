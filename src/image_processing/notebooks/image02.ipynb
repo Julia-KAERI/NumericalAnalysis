{
 "cells": [
  {
   "cell_type": "code",
   "execution_count": null,
   "metadata": {},
   "outputs": [],
   "source": [
    "using Pkg, CairoMakie, LaTeXStrings, LinearAlgebra\n",
    "Pkg.activate(\"/Users/jiyong/.juliaenv/image\")\n",
    "using OpenCV, TestImages\n",
    "include(\"cvext.jl\")"
   ]
  },
  {
   "cell_type": "code",
   "execution_count": 2,
   "metadata": {},
   "outputs": [],
   "source": [
    "img0= img2mat(testimage(\"cameraman.tif\"));"
   ]
  },
  {
   "cell_type": "code",
   "execution_count": null,
   "metadata": {},
   "outputs": [],
   "source": [
    "imgx = cv.Mat(convert.(Float32, img0))\n",
    "imgx_sq = cv.Mat(imgx .* imgx)\n",
    "imgx_mu = cv.blur(imgx, cvSize(3, 3))\n",
    "imgx_sqmu = cv.blur(imgx_sq, cvSize(3, 3))\n",
    "imgx_musq = cv.Mat(imgx_mu .* imgx_mu)\n",
    "img_sdfiltered = cv.Mat(imgx_sqmu .- imgx_musq)"
   ]
  },
  {
   "cell_type": "code",
   "execution_count": null,
   "metadata": {},
   "outputs": [],
   "source": [
    "img0"
   ]
  },
  {
   "cell_type": "code",
   "execution_count": null,
   "metadata": {},
   "outputs": [],
   "source": [
    "img0= img2mat(testimage(\"cameraman.tif\"));\n",
    "K1 = arr2mat(Int32[1 0 -1; 2 0 -2; 1 0 -1])\n",
    "cv.filter2D(img0, -1, K1)\n"
   ]
  },
  {
   "cell_type": "code",
   "execution_count": null,
   "metadata": {},
   "outputs": [],
   "source": [
    "img0= img2mat(testimage(\"cameraman.tif\"));\n",
    "L=arr2mat(Int32[0 1 0 ; 1 -4 1 ;0  1 0])\n",
    "cv.filter2D(img0, -1, L)\n"
   ]
  },
  {
   "cell_type": "code",
   "execution_count": null,
   "metadata": {},
   "outputs": [],
   "source": [
    "function gaussian_kernel(m, n, sigma_x, sigma_y)\n",
    "    @assert isodd(m) && isodd(n)\n",
    "    cx, cy = m>>1 +1, n>>1 +1\n",
    "    G = zeros(Float32, (m, n))\n",
    "    for j in 1:n, i in 1:m\n",
    "            G[i, j] = exp(- (cx-j)^2 / (2 * sigma_x^2) - (cy-i)^2 / (2 * sigma_y^2))\n",
    "    end\n",
    "    arr2mat(G ./ sum(G))\n",
    "end"
   ]
  },
  {
   "cell_type": "code",
   "execution_count": null,
   "metadata": {},
   "outputs": [],
   "source": [
    "L = gaussian_kernel(3, 3, 1, 1)"
   ]
  },
  {
   "cell_type": "code",
   "execution_count": null,
   "metadata": {},
   "outputs": [],
   "source": [
    "cv.GaussianBlur(img0, cvSize(5, 5), 1.3)"
   ]
  },
  {
   "cell_type": "code",
   "execution_count": null,
   "metadata": {},
   "outputs": [],
   "source": [
    "methods(cv.GaussianBlur)"
   ]
  },
  {
   "cell_type": "code",
   "execution_count": null,
   "metadata": {},
   "outputs": [],
   "source": []
  }
 ],
 "metadata": {
  "kernelspec": {
   "display_name": "Julia 1.10.2",
   "language": "julia",
   "name": "julia-1.10"
  },
  "language_info": {
   "file_extension": ".jl",
   "mimetype": "application/julia",
   "name": "julia",
   "version": "1.10.2"
  }
 },
 "nbformat": 4,
 "nbformat_minor": 2
}
