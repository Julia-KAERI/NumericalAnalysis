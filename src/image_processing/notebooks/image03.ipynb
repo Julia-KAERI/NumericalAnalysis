{
 "cells": [
  {
   "cell_type": "code",
   "execution_count": null,
   "metadata": {},
   "outputs": [],
   "source": [
    "using Pkg, CairoMakie, LaTeXStrings, LinearAlgebra, FFTW\n",
    "Pkg.activate(\"/Users/jiyong/.juliaenv/image\")\n",
    "using OpenCV, TestImages\n",
    "include(\"cvext.jl\")"
   ]
  },
  {
   "cell_type": "code",
   "execution_count": null,
   "metadata": {},
   "outputs": [],
   "source": [
    "\n",
    "function cvConvertTo(mat::OpenCV.Mat, t::T) where T<:Type\n",
    "    return cv.Mat(convert.(t, mat.data))\n",
    "end"
   ]
  },
  {
   "cell_type": "code",
   "execution_count": 33,
   "metadata": {},
   "outputs": [],
   "source": [
    "img0= img2mat(testimage(\"cameraman.tif\"));\n",
    "img1 = cvConvertTo(img0, Float32)\n",
    "img1a = mat2arr(img1)\n",
    "ft1 = cv.dft(img1, flags=cv.DFT_COMPLEX_OUTPUT);\n"
   ]
  },
  {
   "cell_type": "code",
   "execution_count": null,
   "metadata": {},
   "outputs": [],
   "source": [
    "cv.Mat(ft1.data[1:1,:,:])"
   ]
  },
  {
   "cell_type": "code",
   "execution_count": null,
   "metadata": {},
   "outputs": [],
   "source": [
    "cv.Mat(ft1.data[2:2,:,:])"
   ]
  },
  {
   "cell_type": "code",
   "execution_count": null,
   "metadata": {},
   "outputs": [],
   "source": [
    "cc = fft(img1a)[:,:,1]\n",
    "arr2mat(real(cc))"
   ]
  },
  {
   "cell_type": "code",
   "execution_count": null,
   "metadata": {},
   "outputs": [],
   "source": [
    "X = zeros(UInt8, (512, 512))\n",
    "X[(256-5):(256+5), (256-15):(256+15)].= 255\n",
    "img1 = arr2mat(X)\n",
    "img1f = cvConvertTo(img1, Float32)\n",
    "img2 = cv.dft(img1f, flags=cv.DFT_COMPLEX_OUTPUT);\n",
    "img3 = cv.Mat(@. sqrt(img2[1:1, :, :]^2 + img2[2:2,:,:]^2) )\n"
   ]
  },
  {
   "cell_type": "code",
   "execution_count": null,
   "metadata": {},
   "outputs": [],
   "source": [
    "img2[1:1,:,:]"
   ]
  },
  {
   "cell_type": "code",
   "execution_count": null,
   "metadata": {},
   "outputs": [],
   "source": [
    "cv.Mat(img2[2:2,:,:])"
   ]
  },
  {
   "cell_type": "code",
   "execution_count": null,
   "metadata": {},
   "outputs": [],
   "source": [
    "\n",
    "fig, ax, hm = heatmap(log.(1.0 .+ abs.(real(fft(X)))))\n",
    "Colorbar(fig[:, end+1], hm)\n",
    "fig"
   ]
  },
  {
   "cell_type": "code",
   "execution_count": null,
   "metadata": {},
   "outputs": [],
   "source": [
    "\n",
    "fig, ax, hm = heatmap(log.(1.0 .+ abs.(imag(fft(X)))))\n",
    "Colorbar(fig[:, end+1], hm)\n",
    "fig"
   ]
  },
  {
   "cell_type": "code",
   "execution_count": null,
   "metadata": {},
   "outputs": [],
   "source": []
  }
 ],
 "metadata": {
  "kernelspec": {
   "display_name": "Julia 1.10.2",
   "language": "julia",
   "name": "julia-1.10"
  },
  "language_info": {
   "file_extension": ".jl",
   "mimetype": "application/julia",
   "name": "julia",
   "version": "1.10.2"
  }
 },
 "nbformat": 4,
 "nbformat_minor": 2
}
