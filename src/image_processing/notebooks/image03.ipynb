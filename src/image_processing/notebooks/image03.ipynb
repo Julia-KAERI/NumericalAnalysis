{
 "cells": [
  {
   "cell_type": "code",
   "execution_count": null,
   "metadata": {},
   "outputs": [],
   "source": [
    "using Pkg, CairoMakie, LaTeXStrings, LinearAlgebra, FFTW\n",
    "Pkg.activate(\"/Users/jiyong/.juliaenv/image\")\n",
    "using OpenCV, TestImages\n",
    "const cv = OpenCV"
   ]
  },
  {
   "cell_type": "code",
   "execution_count": null,
   "metadata": {},
   "outputs": [],
   "source": [
    "include(\"cvext.jl\")"
   ]
  },
  {
   "cell_type": "code",
   "execution_count": null,
   "metadata": {},
   "outputs": [],
   "source": [
    "img0= cvx.img2mat(testimage(\"cameraman.tif\"));\n",
    "img1 = cvx.ConvertTo(img0, Float32)\n",
    "img1a = cvx.mat2arr(img1)\n",
    "ft1 = cv.dft(img1, flags=cv.DFT_COMPLEX_OUTPUT);\n",
    "img0;"
   ]
  },
  {
   "cell_type": "code",
   "execution_count": null,
   "metadata": {},
   "outputs": [],
   "source": [
    "cv.Mat(ft1.data[1:1,:,:]);"
   ]
  },
  {
   "cell_type": "code",
   "execution_count": null,
   "metadata": {},
   "outputs": [],
   "source": [
    "cv.Mat(ft1.data[2:2,:,:]);"
   ]
  },
  {
   "cell_type": "code",
   "execution_count": null,
   "metadata": {},
   "outputs": [],
   "source": [
    "cc = fft(img1a)[:,:,1]\n",
    "cvx.arr2mat(real(cc));"
   ]
  },
  {
   "cell_type": "code",
   "execution_count": null,
   "metadata": {},
   "outputs": [],
   "source": [
    "function a2m(arr::Array{T, 3}) where T<:Union{Float32, Float64, Int16, Int32, Int8, UInt16, UInt8}\n",
    "    OpenCV.Mat(permutedims(arr, [3,2,1]))\n",
    "end\n",
    "\n",
    "X = zeros(UInt8, (256, 512))\n",
    "X[(128-5):(128+5), (256-15):(256+15)].= 255\n",
    "img1 = cvx.arr2mat(X)\n",
    "img1f = cvx.ConvertTo(img1, Float32)\n",
    "img2 = cv.dft(img1f, flags=cv.DFT_COMPLEX_OUTPUT);\n",
    "img22 = cvx.fftshift(img2)\n",
    "arr2 = cvx.mat2arr(img2)\n",
    "img1\n"
   ]
  },
  {
   "cell_type": "code",
   "execution_count": null,
   "metadata": {},
   "outputs": [],
   "source": [
    "cv.split(img2)[1]"
   ]
  },
  {
   "cell_type": "code",
   "execution_count": null,
   "metadata": {},
   "outputs": [],
   "source": [
    "heatmap(log.(1.0 .+ sqrt.(arr2[:,:,1].^2 + arr2[:,:,2].^2)))"
   ]
  },
  {
   "cell_type": "code",
   "execution_count": null,
   "metadata": {},
   "outputs": [],
   "source": [
    "Xf0 = fft(X')\n",
    "Xf = fftshift(Xf0)\n",
    "f = Figure(size=(800, 400))\n",
    "ax1 = Axis(f[1, 1], aspect=DataAspect(), yreversed = true, title = L\"X\")\n",
    "hm1 = heatmap!(ax1, X')\n",
    "ax2 = Axis(f[1, 2], aspect=DataAspect(), yreversed = true, title=L\"\\mathfrak{F}[X]\")\n",
    "hm2 = heatmap!(ax2, log.(1.0 .+ abs.(Xf)))\n",
    "ax3 = Axis(f[2, 1], aspect=DataAspect(), yreversed = true, title = L\"\\text{Re}(\\mathfrak{F}[X])\")\n",
    "hm3 = heatmap!(ax3, log.(1.0 .+ abs.(real(Xf))))\n",
    "ax4 = Axis(f[2, 2], aspect=DataAspect(), yreversed = true, title = L\"\\text{Im}(\\mathfrak{F}[X])\")\n",
    "hm4 = heatmap!(ax4, log.(1.0 .+ abs.(imag(Xf))))\n",
    "f\n"
   ]
  },
  {
   "cell_type": "code",
   "execution_count": null,
   "metadata": {},
   "outputs": [],
   "source": [
    "heatmap(log.(1.0 .+ abs.(Xf)))\n"
   ]
  },
  {
   "cell_type": "code",
   "execution_count": null,
   "metadata": {},
   "outputs": [],
   "source": []
  },
  {
   "cell_type": "code",
   "execution_count": null,
   "metadata": {},
   "outputs": [],
   "source": [
    "\n",
    "fig, ax, hm = heatmap(log.(1.0 .+ abs.(fftshift(real(fft(X))))))\n",
    "Colorbar(fig[:, end+1], hm)\n",
    "fig"
   ]
  },
  {
   "cell_type": "code",
   "execution_count": null,
   "metadata": {},
   "outputs": [],
   "source": [
    "\n",
    "fig, ax, hm = heatmap(log.(1.0 .+ abs.(real(fft(X)))))\n",
    "Colorbar(fig[:, end+1], hm)\n",
    "fig"
   ]
  },
  {
   "cell_type": "code",
   "execution_count": null,
   "metadata": {},
   "outputs": [],
   "source": [
    "\n",
    "function tifftshift(v::Vector)\n",
    "    m = length(v)\n",
    "    n = iseven(m) ? div(m, 2) : div(m, 2)\n",
    "    return [v[n+1:end]; v[1:n] ]\n",
    "end \n",
    "\n",
    "\n",
    "function tifftshift(A::Matrix)\n",
    "    h, w = size(A)\n",
    "    m = iseven(h) ? div(h, 2) : div(h, 2)\n",
    "    n = iseven(w) ? div(w, 2) : div(w, 2)\n",
    "    return [A[m+1:end, n+1:end] A[m+1:end, 1:n] ; A[1:m, n+1:end] A[1:m, 1:n] ]\n",
    "end\n",
    "\n"
   ]
  },
  {
   "cell_type": "code",
   "execution_count": null,
   "metadata": {},
   "outputs": [],
   "source": [
    "ps = reshape(collect(Int32, 1:64), (8, 8))\n",
    "ifftshift(ps)"
   ]
  },
  {
   "cell_type": "code",
   "execution_count": null,
   "metadata": {},
   "outputs": [],
   "source": [
    "tifftshift(ps)"
   ]
  },
  {
   "cell_type": "code",
   "execution_count": null,
   "metadata": {},
   "outputs": [],
   "source": [
    "tfftshift(p)"
   ]
  },
  {
   "cell_type": "code",
   "execution_count": null,
   "metadata": {},
   "outputs": [],
   "source": [
    "tfftshift(p)[1,:,:]"
   ]
  },
  {
   "cell_type": "code",
   "execution_count": null,
   "metadata": {},
   "outputs": [],
   "source": [
    "cvx.fftshift(ft1)"
   ]
  },
  {
   "cell_type": "code",
   "execution_count": null,
   "metadata": {},
   "outputs": [],
   "source": [
    "function tfftshift(A::OpenCV.Mat)\n",
    "    \n",
    "    # to be imporved by reducing array allocation\n",
    "    return arr2mat(fftshift(mat2arr(A)[:,:,1]))\n",
    "end"
   ]
  },
  {
   "cell_type": "code",
   "execution_count": null,
   "metadata": {},
   "outputs": [],
   "source": [
    "size(ft1)"
   ]
  },
  {
   "cell_type": "code",
   "execution_count": null,
   "metadata": {},
   "outputs": [],
   "source": [
    "#permutedims(stack([arr, ]), [3,2,1]))\n",
    "xx = OpenCV.Mat(permutedims(stack([cvx.fftshift(cvx.mat2arr(ft1)[:, :, i]) for i in 1:size(img2)[1]], dims=3), [3,2,1]))\n",
    "yy = sqrt.(xx[1,:,:].^2 .+ xx[2,:,:,].^2)\n",
    "log.(1.0 .+ yy)\n",
    "fig, ax, hm = heatmap(log.(1.0 .+ yy))\n",
    "Colorbar(fig[:, end+1], hm)\n",
    "fig"
   ]
  },
  {
   "cell_type": "code",
   "execution_count": null,
   "metadata": {},
   "outputs": [],
   "source": [
    "xx"
   ]
  },
  {
   "cell_type": "code",
   "execution_count": null,
   "metadata": {},
   "outputs": [],
   "source": [
    "cvx.mat2arr(ft1[1, :, :])"
   ]
  },
  {
   "cell_type": "code",
   "execution_count": null,
   "metadata": {},
   "outputs": [],
   "source": [
    "size(img0)"
   ]
  },
  {
   "cell_type": "code",
   "execution_count": null,
   "metadata": {},
   "outputs": [],
   "source": [
    "size(img22)"
   ]
  },
  {
   "cell_type": "code",
   "execution_count": null,
   "metadata": {},
   "outputs": [],
   "source": [
    "ps=cv.imread(\"../imgs/ero-adbox-gallery-2020-033a-2400x1200.jpg\");\n"
   ]
  },
  {
   "cell_type": "code",
   "execution_count": null,
   "metadata": {},
   "outputs": [],
   "source": [
    "size(ps)"
   ]
  },
  {
   "cell_type": "code",
   "execution_count": null,
   "metadata": {},
   "outputs": [],
   "source": []
  },
  {
   "cell_type": "code",
   "execution_count": null,
   "metadata": {},
   "outputs": [],
   "source": []
  },
  {
   "cell_type": "code",
   "execution_count": null,
   "metadata": {},
   "outputs": [],
   "source": []
  },
  {
   "cell_type": "code",
   "execution_count": null,
   "metadata": {},
   "outputs": [],
   "source": [
    "xq=cv.split(ps)"
   ]
  },
  {
   "cell_type": "code",
   "execution_count": null,
   "metadata": {},
   "outputs": [],
   "source": [
    "cv.merge(OpenCV.InputArray[xq[1],xq[2], xq[3]]);"
   ]
  },
  {
   "cell_type": "code",
   "execution_count": null,
   "metadata": {},
   "outputs": [],
   "source": [
    "cv.dft(cvx.ConvertTo(ps, Float32), flags=cv.DFT_COMPLEX_OUTPUT);"
   ]
  },
  {
   "cell_type": "code",
   "execution_count": null,
   "metadata": {},
   "outputs": [],
   "source": [
    "cvx.ConvertTo(ps, Float32);"
   ]
  },
  {
   "cell_type": "code",
   "execution_count": null,
   "metadata": {},
   "outputs": [],
   "source": [
    "ps.data"
   ]
  },
  {
   "cell_type": "code",
   "execution_count": null,
   "metadata": {},
   "outputs": [],
   "source": [
    "OpenCV.InputArray[xq[1],xq[2], xq[3]]"
   ]
  },
  {
   "cell_type": "code",
   "execution_count": null,
   "metadata": {},
   "outputs": [],
   "source": [
    "cvx."
   ]
  }
 ],
 "metadata": {
  "kernelspec": {
   "display_name": "Julia 1.10.2",
   "language": "julia",
   "name": "julia-1.10"
  },
  "language_info": {
   "file_extension": ".jl",
   "mimetype": "application/julia",
   "name": "julia",
   "version": "1.10.2"
  }
 },
 "nbformat": 4,
 "nbformat_minor": 2
}
