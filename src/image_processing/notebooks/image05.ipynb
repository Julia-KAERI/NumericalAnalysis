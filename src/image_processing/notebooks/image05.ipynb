{
 "cells": [
  {
   "cell_type": "code",
   "execution_count": null,
   "metadata": {},
   "outputs": [],
   "source": [
    "using Pkg, CairoMakie, LaTeXStrings, LinearAlgebra, FFTW\n",
    "Pkg.activate(\"/Users/jiyong/.juliaenv/image\")\n",
    "using OpenCV, TestImages\n",
    "const cv = OpenCV"
   ]
  },
  {
   "cell_type": "code",
   "execution_count": null,
   "metadata": {},
   "outputs": [],
   "source": [
    "include(\"cvext.jl\")\n",
    "\n"
   ]
  },
  {
   "cell_type": "code",
   "execution_count": null,
   "metadata": {},
   "outputs": [],
   "source": [
    "fig = Figure(size=(1000, 1000))\n",
    "ax11 = Axis(fig[1:2, 1], title = L\"f(x)\")\n",
    "ax12 = Axis(fig[1, 2],)\n",
    "ax121 = Axis(fig[2, 2])\n",
    "ax13 = Axis(fig[1:2, 3], title = L\"|\\mathfrak{F}[f](u)|\")\n",
    "ts = 0:1:150\n",
    "f = cvx.fftfreq(length(ts))\n",
    "x = [ abs(t-5) < 5 ? 1 : 0 for t in ts]\n",
    "lines!(ax11, ts, x, linewidth=3)\n",
    "lines!(ax12, fftshift(f), real(fftshift(fft(x))), color=:red, label=L\"\\text{Re}(\\hat{f}(u))\")\n",
    "lines!(ax121, fftshift(f), imag(fftshift(fft(x))), color=:blue, label=L\"\\text{Im}(\\hat{f}(u))\")\n",
    "lines!(ax13, fftshift(f), abs.(fftshift(fft(x))))\n",
    "axislegend(ax12)\n",
    "axislegend(ax121)\n",
    "\n",
    "ax21 = Axis(fig[3:4, 1])\n",
    "ax22 = Axis(fig[3, 2])\n",
    "ax221 = Axis(fig[4, 2])\n",
    "ax23 = Axis(fig[3:4, 3])\n",
    "\n",
    "x = [ abs(t-41) < 40 ? 1 : 0 for t in ts]\n",
    "lines!(ax21, ts, x, linewidth=3)\n",
    "lines!(ax22, fftshift(f), real(fftshift(fft(x))), color=:red, label=L\"\\text{Re}(\\hat{f}(u))\")\n",
    "lines!(ax221, fftshift(f), imag(fftshift(fft(x))), color=:blue, label=L\"\\text{Im}(\\hat{f}(u))\")\n",
    "lines!(ax23, fftshift(f), abs.(fftshift(fft(x))))\n",
    "axislegend(ax22)\n",
    "axislegend(ax221)\n",
    "\n",
    "\n",
    "ax31 = Axis(fig[5:6, 1])\n",
    "ax32 = Axis(fig[5, 2])\n",
    "ax321 = Axis(fig[6, 2])\n",
    "ax33 = Axis(fig[5:6, 3])\n",
    "\n",
    "x = @. exp(-(ts-20)^2/10) \n",
    "lines!(ax31, ts, x, linewidth=3)\n",
    "lines!(ax32, fftshift(f), real(fftshift(fft(x))), color=:red, label=L\"\\text{Re}(\\hat{f}(u))\")\n",
    "lines!(ax321, fftshift(f), imag(fftshift(fft(x))), color=:blue, label=L\"\\text{Im}(\\hat{f}(u))\")\n",
    "lines!(ax33, fftshift(f), abs.(fftshift(fft(x))))\n",
    "axislegend(ax32)\n",
    "axislegend(ax321)\n",
    "\n",
    "\n",
    "ax41 = Axis(fig[7:8, 1])\n",
    "ax42 = Axis(fig[7, 2])\n",
    "ax421 = Axis(fig[8, 2])\n",
    "ax43 = Axis(fig[7:8, 3])\n",
    "\n",
    "x = @. sin(ts*pi/15)\n",
    "lines!(ax41, ts, x, linewidth=3)\n",
    "lines!(ax42, fftshift(f), real(fftshift(fft(x))), color=:red, label=L\"\\text{Re}(\\hat{f}(u))\")\n",
    "lines!(ax421, fftshift(f), imag(fftshift(fft(x))), color=:blue, label=L\"\\text{Im}(\\hat{f}(u))\")\n",
    "lines!(ax43, fftshift(f), abs.(fftshift(fft(x))))\n",
    "axislegend(ax42)\n",
    "axislegend(ax421)\n",
    "\n",
    "fig\n",
    "#save(\"fftexam.png\", fig)"
   ]
  },
  {
   "cell_type": "code",
   "execution_count": null,
   "metadata": {},
   "outputs": [],
   "source": [
    "abs.(fftshift(fft(x)))"
   ]
  },
  {
   "cell_type": "code",
   "execution_count": null,
   "metadata": {},
   "outputs": [],
   "source": [
    "G2 = cvx.mat2arr(G1)\n",
    "G3 = cv.idft(G1)"
   ]
  },
  {
   "cell_type": "code",
   "execution_count": null,
   "metadata": {},
   "outputs": [],
   "source": [
    "G1[1,:,:]"
   ]
  },
  {
   "cell_type": "code",
   "execution_count": null,
   "metadata": {},
   "outputs": [],
   "source": [
    "real(fft(F0))"
   ]
  },
  {
   "cell_type": "code",
   "execution_count": null,
   "metadata": {},
   "outputs": [],
   "source": [
    "G1[1,:,:]"
   ]
  },
  {
   "cell_type": "code",
   "execution_count": null,
   "metadata": {},
   "outputs": [],
   "source": [
    "cvx.ifftshift(G1)"
   ]
  },
  {
   "cell_type": "code",
   "execution_count": null,
   "metadata": {},
   "outputs": [],
   "source": [
    "cvx.fftshift(G1)"
   ]
  },
  {
   "cell_type": "code",
   "execution_count": null,
   "metadata": {},
   "outputs": [],
   "source": [
    "imag(ifftshift(F1))'"
   ]
  },
  {
   "cell_type": "code",
   "execution_count": null,
   "metadata": {},
   "outputs": [],
   "source": [
    "function fftfreq(n::Integer, d::Real =1)\n",
    "    @assert n>0\n",
    "    m = n>>1\n",
    "    if isodd(n)\n",
    "        return [collect(0:m); collect(-(m):-1)]./n\n",
    "    else\n",
    "        \n",
    "        return [collect(0:m-1); collect(-(m):-1)]./n\n",
    "    end\n",
    "end\n"
   ]
  },
  {
   "cell_type": "code",
   "execution_count": null,
   "metadata": {},
   "outputs": [],
   "source": [
    "cvx.fftshift(fftfreq(5))"
   ]
  },
  {
   "cell_type": "code",
   "execution_count": null,
   "metadata": {},
   "outputs": [],
   "source": [
    "imag(fftshift(fft(F0)))' .- tfftshift(G1)[2,:,:]"
   ]
  },
  {
   "cell_type": "code",
   "execution_count": null,
   "metadata": {},
   "outputs": [],
   "source": [
    "Xf0 = fft(X')\n",
    "Xf = fftshift(Xf0)\n",
    "f = Figure(size=(800, 400))\n",
    "ax1 = Axis(f[1, 1], aspect=DataAspect(), yreversed = true, title = L\"X\")\n",
    "hm1 = heatmap!(ax1, X')\n",
    "ax2 = Axis(f[1, 2], aspect=DataAspect(), yreversed = true, title=L\"\\mathfrak{F}[X]\")\n",
    "hm2 = heatmap!(ax2, log.(1.0 .+ abs.(Xf)))\n",
    "ax3 = Axis(f[2, 1], aspect=DataAspect(), yreversed = true, title = L\"\\text{Re}(\\mathfrak{F}[X])\")\n",
    "hm3 = heatmap!(ax3, log.(1.0 .+ abs.(real(Xf))))\n",
    "ax4 = Axis(f[2, 2], aspect=DataAspect(), yreversed = true, title = L\"\\text{Im}(\\mathfrak{F}[X])\")\n",
    "hm4 = heatmap!(ax4, log.(1.0 .+ abs.(imag(Xf))))\n",
    "f\n"
   ]
  },
  {
   "cell_type": "code",
   "execution_count": null,
   "metadata": {},
   "outputs": [],
   "source": [
    "heatmap(log.(1.0 .+ abs.(Xf)))\n"
   ]
  },
  {
   "cell_type": "code",
   "execution_count": null,
   "metadata": {},
   "outputs": [],
   "source": []
  },
  {
   "cell_type": "code",
   "execution_count": null,
   "metadata": {},
   "outputs": [],
   "source": [
    "\n",
    "fig, ax, hm = heatmap(log.(1.0 .+ abs.(fftshift(real(fft(X))))))\n",
    "Colorbar(fig[:, end+1], hm)\n",
    "fig"
   ]
  },
  {
   "cell_type": "code",
   "execution_count": null,
   "metadata": {},
   "outputs": [],
   "source": [
    "\n",
    "fig, ax, hm = heatmap(log.(1.0 .+ abs.(real(fft(X)))))\n",
    "Colorbar(fig[:, end+1], hm)\n",
    "fig"
   ]
  },
  {
   "cell_type": "code",
   "execution_count": null,
   "metadata": {},
   "outputs": [],
   "source": [
    "\n",
    "\n"
   ]
  },
  {
   "cell_type": "code",
   "execution_count": null,
   "metadata": {},
   "outputs": [],
   "source": [
    "ps = reshape(collect(Int32, 1:64), (8, 8))\n",
    "ifftshift(ps)"
   ]
  },
  {
   "cell_type": "code",
   "execution_count": null,
   "metadata": {},
   "outputs": [],
   "source": [
    "tifftshift(ps)"
   ]
  },
  {
   "cell_type": "code",
   "execution_count": null,
   "metadata": {},
   "outputs": [],
   "source": [
    "tfftshift(p)"
   ]
  },
  {
   "cell_type": "code",
   "execution_count": null,
   "metadata": {},
   "outputs": [],
   "source": [
    "tfftshift(p)[1,:,:]"
   ]
  },
  {
   "cell_type": "code",
   "execution_count": null,
   "metadata": {},
   "outputs": [],
   "source": [
    "cvx.fftshift(ft1)"
   ]
  },
  {
   "cell_type": "code",
   "execution_count": null,
   "metadata": {},
   "outputs": [],
   "source": [
    "function tfftshift(A::OpenCV.Mat)\n",
    "    \n",
    "    # to be imporved by reducing array allocation\n",
    "    return arr2mat(fftshift(mat2arr(A)[:,:,1]))\n",
    "end"
   ]
  },
  {
   "cell_type": "code",
   "execution_count": null,
   "metadata": {},
   "outputs": [],
   "source": [
    "size(ft1)"
   ]
  },
  {
   "cell_type": "code",
   "execution_count": null,
   "metadata": {},
   "outputs": [],
   "source": [
    "#permutedims(stack([arr, ]), [3,2,1]))\n",
    "xx = OpenCV.Mat(permutedims(stack([cvx.fftshift(cvx.mat2arr(ft1)[:, :, i]) for i in 1:size(img2)[1]], dims=3), [3,2,1]))\n",
    "yy = sqrt.(xx[1,:,:].^2 .+ xx[2,:,:,].^2)\n",
    "log.(1.0 .+ yy)\n",
    "fig, ax, hm = heatmap(log.(1.0 .+ yy))\n",
    "Colorbar(fig[:, end+1], hm)\n",
    "fig"
   ]
  },
  {
   "cell_type": "code",
   "execution_count": null,
   "metadata": {},
   "outputs": [],
   "source": [
    "xx"
   ]
  },
  {
   "cell_type": "code",
   "execution_count": null,
   "metadata": {},
   "outputs": [],
   "source": [
    "cvx.mat2arr(ft1[1, :, :])"
   ]
  },
  {
   "cell_type": "code",
   "execution_count": null,
   "metadata": {},
   "outputs": [],
   "source": [
    "size(img0)"
   ]
  },
  {
   "cell_type": "code",
   "execution_count": null,
   "metadata": {},
   "outputs": [],
   "source": [
    "size(img22)"
   ]
  },
  {
   "cell_type": "code",
   "execution_count": null,
   "metadata": {},
   "outputs": [],
   "source": [
    "ps=cv.imread(\"../imgs/ero-adbox-gallery-2020-033a-2400x1200.jpg\");\n"
   ]
  },
  {
   "cell_type": "code",
   "execution_count": null,
   "metadata": {},
   "outputs": [],
   "source": [
    "size(ps)"
   ]
  },
  {
   "cell_type": "code",
   "execution_count": null,
   "metadata": {},
   "outputs": [],
   "source": [
    "X = collect(Float32, 1:11)\n",
    "fft(X)"
   ]
  },
  {
   "cell_type": "code",
   "execution_count": null,
   "metadata": {},
   "outputs": [],
   "source": [
    "mdft(X)"
   ]
  },
  {
   "cell_type": "code",
   "execution_count": null,
   "metadata": {},
   "outputs": [],
   "source": []
  },
  {
   "cell_type": "code",
   "execution_count": null,
   "metadata": {},
   "outputs": [],
   "source": [
    "xq=cv.split(ps)"
   ]
  },
  {
   "cell_type": "code",
   "execution_count": null,
   "metadata": {},
   "outputs": [],
   "source": [
    "cv.merge(OpenCV.InputArray[xq[1],xq[2], xq[3]]);"
   ]
  },
  {
   "cell_type": "code",
   "execution_count": null,
   "metadata": {},
   "outputs": [],
   "source": [
    "cv.dft(cvx.ConvertTo(ps, Float32), flags=cv.DFT_COMPLEX_OUTPUT);"
   ]
  },
  {
   "cell_type": "code",
   "execution_count": null,
   "metadata": {},
   "outputs": [],
   "source": [
    "cvx.ConvertTo(ps, Float32);"
   ]
  },
  {
   "cell_type": "code",
   "execution_count": null,
   "metadata": {},
   "outputs": [],
   "source": [
    "ps.data"
   ]
  },
  {
   "cell_type": "code",
   "execution_count": null,
   "metadata": {},
   "outputs": [],
   "source": [
    "OpenCV.InputArray[xq[1],xq[2], xq[3]]"
   ]
  },
  {
   "cell_type": "code",
   "execution_count": null,
   "metadata": {},
   "outputs": [],
   "source": [
    "mod(3.0, 0)"
   ]
  },
  {
   "cell_type": "code",
   "execution_count": null,
   "metadata": {},
   "outputs": [],
   "source": []
  }
 ],
 "metadata": {
  "kernelspec": {
   "display_name": "Julia 1.10.2",
   "language": "julia",
   "name": "julia-1.10"
  },
  "language_info": {
   "file_extension": ".jl",
   "mimetype": "application/julia",
   "name": "julia",
   "version": "1.10.2"
  }
 },
 "nbformat": 4,
 "nbformat_minor": 2
}
